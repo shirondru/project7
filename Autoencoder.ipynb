{
 "cells": [
  {
   "cell_type": "code",
   "execution_count": 23,
   "id": "c796a9ae",
   "metadata": {},
   "outputs": [],
   "source": [
    "import numpy as np\n",
    "from typing import List, Tuple\n",
    "from numpy.typing import ArrayLike\n",
    "from nn import NeuralNetwork, one_hot_encode_seqs, sample_seqs\n",
    "from sklearn import datasets\n",
    "from sklearn.model_selection import train_test_split,KFold\n",
    "import pandas as pd\n",
    "import matplotlib.pyplot as plt\n"
   ]
  },
  {
   "cell_type": "markdown",
   "id": "93e782a0",
   "metadata": {},
   "source": [
    "### 5-fold CV Grid Search to find optimal NN architecture\n",
    "* 5-fold Grid search CV was implemented manually to find optimal architecture (i.e, # of layers) hyperparameter \n",
    "* Data was split into train and test set. Test set was completely held out for the grid search CV; grid search hyperparameter tuning was done using only the training data. \n",
    "* Note that the grid search will take >1hr"
   ]
  },
  {
   "cell_type": "code",
   "execution_count": 71,
   "id": "316ff326",
   "metadata": {
    "scrolled": true
   },
   "outputs": [
    {
     "name": "stdout",
     "output_type": "stream",
     "text": [
      "2\n",
      "4\n",
      "6\n",
      "8\n"
     ]
    },
    {
     "ename": "ValueError",
     "evalue": "shapes (1,56) and (54,48) not aligned: 56 (dim 1) != 54 (dim 0)",
     "output_type": "error",
     "traceback": [
      "\u001B[0;31m---------------------------------------------------------------------------\u001B[0m",
      "\u001B[0;31mValueError\u001B[0m                                Traceback (most recent call last)",
      "\u001B[0;32m/var/folders/pb/rxdm6429115bqbpvsxy37dbm0000gn/T/ipykernel_20616/1342036210.py\u001B[0m in \u001B[0;36m<module>\u001B[0;34m\u001B[0m\n\u001B[1;32m     68\u001B[0m                         loss_function='mean_squared_error') \n\u001B[1;32m     69\u001B[0m         \u001B[0;31m#fit this fold. test data is still held out\u001B[0m\u001B[0;34m\u001B[0m\u001B[0;34m\u001B[0m\u001B[0m\n\u001B[0;32m---> 70\u001B[0;31m         train_loss, val_loss = nn.fit(X_train[train],y_train[train],\n\u001B[0m\u001B[1;32m     71\u001B[0m                                        X_train[val],y_train[val])\n\u001B[1;32m     72\u001B[0m         \u001B[0mfold_avg_train_loss\u001B[0m \u001B[0;34m=\u001B[0m \u001B[0mnp\u001B[0m\u001B[0;34m.\u001B[0m\u001B[0mmean\u001B[0m\u001B[0;34m(\u001B[0m\u001B[0mtrain_loss\u001B[0m\u001B[0;34m)\u001B[0m \u001B[0;31m#avg (across epochs) training loss for this fold\u001B[0m\u001B[0;34m\u001B[0m\u001B[0;34m\u001B[0m\u001B[0m\n",
      "\u001B[0;32m~/Documents/GitHub/project7/nn/nn.py\u001B[0m in \u001B[0;36mfit\u001B[0;34m(self, X_train, y_train, X_val, y_val)\u001B[0m\n\u001B[1;32m    330\u001B[0m             \u001B[0mbatch_val_loss\u001B[0m \u001B[0;34m=\u001B[0m \u001B[0;34m[\u001B[0m\u001B[0;34m]\u001B[0m\u001B[0;34m\u001B[0m\u001B[0;34m\u001B[0m\u001B[0m\n\u001B[1;32m    331\u001B[0m             \u001B[0;32mfor\u001B[0m \u001B[0mX_batch_train\u001B[0m\u001B[0;34m,\u001B[0m \u001B[0my_batch_train\u001B[0m \u001B[0;32min\u001B[0m \u001B[0mzip\u001B[0m\u001B[0;34m(\u001B[0m\u001B[0mX_batch\u001B[0m\u001B[0;34m,\u001B[0m \u001B[0my_batch\u001B[0m\u001B[0;34m)\u001B[0m\u001B[0;34m:\u001B[0m\u001B[0;34m\u001B[0m\u001B[0;34m\u001B[0m\u001B[0m\n\u001B[0;32m--> 332\u001B[0;31m                 \u001B[0my_hat\u001B[0m\u001B[0;34m,\u001B[0m \u001B[0mcache\u001B[0m \u001B[0;34m=\u001B[0m \u001B[0mself\u001B[0m\u001B[0;34m.\u001B[0m\u001B[0mforward\u001B[0m\u001B[0;34m(\u001B[0m\u001B[0mX_batch_train\u001B[0m\u001B[0;34m)\u001B[0m \u001B[0;31m#get prediction with training data from this batch\u001B[0m\u001B[0;34m\u001B[0m\u001B[0;34m\u001B[0m\u001B[0m\n\u001B[0m\u001B[1;32m    333\u001B[0m                 \u001B[0mbatch_train_loss\u001B[0m\u001B[0;34m.\u001B[0m\u001B[0mappend\u001B[0m\u001B[0;34m(\u001B[0m\u001B[0mself\u001B[0m\u001B[0;34m.\u001B[0m\u001B[0m_loss_function\u001B[0m\u001B[0;34m(\u001B[0m\u001B[0my_batch_train\u001B[0m\u001B[0;34m,\u001B[0m\u001B[0my_hat\u001B[0m\u001B[0;34m)\u001B[0m\u001B[0;34m)\u001B[0m \u001B[0;31m#save training loss from this batch\u001B[0m\u001B[0;34m\u001B[0m\u001B[0;34m\u001B[0m\u001B[0m\n\u001B[1;32m    334\u001B[0m                 \u001B[0mgrad_dict\u001B[0m \u001B[0;34m=\u001B[0m \u001B[0mself\u001B[0m\u001B[0;34m.\u001B[0m\u001B[0mbackprop\u001B[0m\u001B[0;34m(\u001B[0m\u001B[0my_batch_train\u001B[0m\u001B[0;34m,\u001B[0m\u001B[0my_hat\u001B[0m\u001B[0;34m,\u001B[0m\u001B[0mcache\u001B[0m\u001B[0;34m)\u001B[0m \u001B[0;31m#get partial derivative of loss with respect to each weight and bias term\u001B[0m\u001B[0;34m\u001B[0m\u001B[0;34m\u001B[0m\u001B[0m\n",
      "\u001B[0;32m~/Documents/GitHub/project7/nn/nn.py\u001B[0m in \u001B[0;36mforward\u001B[0;34m(self, X)\u001B[0m\n\u001B[1;32m    146\u001B[0m             \u001B[0;32melse\u001B[0m\u001B[0;34m:\u001B[0m\u001B[0;34m\u001B[0m\u001B[0;34m\u001B[0m\u001B[0m\n\u001B[1;32m    147\u001B[0m                 \u001B[0mA_prev\u001B[0m \u001B[0;34m=\u001B[0m \u001B[0mA_curr\u001B[0m\u001B[0;34m\u001B[0m\u001B[0;34m\u001B[0m\u001B[0m\n\u001B[0;32m--> 148\u001B[0;31m             A_curr, Z_curr = self._single_forward(W_curr=self._param_dict['W' + str(layer_idx)],\n\u001B[0m\u001B[1;32m    149\u001B[0m                                                   \u001B[0mb_curr\u001B[0m\u001B[0;34m=\u001B[0m\u001B[0mself\u001B[0m\u001B[0;34m.\u001B[0m\u001B[0m_param_dict\u001B[0m\u001B[0;34m[\u001B[0m\u001B[0;34m'b'\u001B[0m \u001B[0;34m+\u001B[0m \u001B[0mstr\u001B[0m\u001B[0;34m(\u001B[0m\u001B[0mlayer_idx\u001B[0m\u001B[0;34m)\u001B[0m\u001B[0;34m]\u001B[0m\u001B[0;34m,\u001B[0m\u001B[0;34m\u001B[0m\u001B[0;34m\u001B[0m\u001B[0m\n\u001B[1;32m    150\u001B[0m                                                   \u001B[0mA_prev\u001B[0m\u001B[0;34m=\u001B[0m\u001B[0mA_prev\u001B[0m\u001B[0;34m,\u001B[0m\u001B[0;34m\u001B[0m\u001B[0;34m\u001B[0m\u001B[0m\n",
      "\u001B[0;32m~/Documents/GitHub/project7/nn/nn.py\u001B[0m in \u001B[0;36m_single_forward\u001B[0;34m(self, W_curr, b_curr, A_prev, activation)\u001B[0m\n\u001B[1;32m    116\u001B[0m \u001B[0;34m\u001B[0m\u001B[0m\n\u001B[1;32m    117\u001B[0m \u001B[0;34m\u001B[0m\u001B[0m\n\u001B[0;32m--> 118\u001B[0;31m         \u001B[0mZ_curr\u001B[0m \u001B[0;34m=\u001B[0m \u001B[0mA_prev\u001B[0m\u001B[0;34m.\u001B[0m\u001B[0mdot\u001B[0m\u001B[0;34m(\u001B[0m\u001B[0mW_curr\u001B[0m\u001B[0;34m.\u001B[0m\u001B[0mT\u001B[0m\u001B[0;34m)\u001B[0m \u001B[0;34m+\u001B[0m \u001B[0mb_curr\u001B[0m\u001B[0;34m.\u001B[0m\u001B[0mT\u001B[0m\u001B[0;34m\u001B[0m\u001B[0;34m\u001B[0m\u001B[0m\n\u001B[0m\u001B[1;32m    119\u001B[0m         \u001B[0mA_curr\u001B[0m \u001B[0;34m=\u001B[0m \u001B[0mself\u001B[0m\u001B[0;34m.\u001B[0m\u001B[0m_activation_function\u001B[0m\u001B[0;34m(\u001B[0m\u001B[0mZ_curr\u001B[0m\u001B[0;34m,\u001B[0m\u001B[0mactivation\u001B[0m\u001B[0;34m)\u001B[0m\u001B[0;34m\u001B[0m\u001B[0;34m\u001B[0m\u001B[0m\n\u001B[1;32m    120\u001B[0m \u001B[0;34m\u001B[0m\u001B[0m\n",
      "\u001B[0;31mValueError\u001B[0m: shapes (1,56) and (54,48) not aligned: 56 (dim 1) != 54 (dim 0)"
     ]
    }
   ],
   "source": [
    "## load and split data into train and test set. test set will be completely held out\n",
    "# of grid search via cross validation.\n",
    "np.random.seed(42)\n",
    "digits = datasets.load_digits()\n",
    "X = digits['data']\n",
    "y = digits['target']\n",
    "X_train, X_test, y_train, y_test = train_test_split(X, y, test_size=0.33, random_state=42)\n",
    "\n",
    "\n",
    "# perform Grid search via cross validation on the training data  \n",
    "#training data will be split into train and validation set, while the original \n",
    "#test set is held out\n",
    "\n",
    "#saving the average MSE across all epochs in each fold with each combination of proposed\n",
    "#hyperparameters\n",
    "columns = [\"size\",\"avg_train_error\",\"avg_val_error\"] + [f\"train_error_fold_{x}\" for x in range(1,6)] \\\n",
    "         + [f\"val_error_fold_{x}\" for x in range(1,6)]            \n",
    "tuning_results_df = pd.DataFrame(columns = columns)\n",
    "\n",
    "\n",
    "sizes = {2:\n",
    "       [{'input_dim': 64, 'output_dim': 16, 'activation': 'relu'},  \n",
    "       {'input_dim': 16, 'output_dim': 64, 'activation': 'relu'}],\n",
    "    \n",
    "       4:\n",
    "        [{'input_dim': 64, 'output_dim': 32, 'activation': 'relu'},\n",
    "       {'input_dim': 32, 'output_dim': 16, 'activation': 'relu'},\n",
    "       {'input_dim': 16, 'output_dim': 32, 'activation': 'relu'},  \n",
    "       {'input_dim': 32, 'output_dim': 64, 'activation': 'relu'}],\n",
    "         \n",
    "         6:\n",
    "          [{'input_dim': 64, 'output_dim': 48, 'activation': 'relu'},\n",
    "       {'input_dim': 48, 'output_dim': 32, 'activation': 'relu'},\n",
    "       {'input_dim': 32, 'output_dim': 16, 'activation': 'relu'},\n",
    "       {'input_dim': 16, 'output_dim': 32, 'activation': 'relu'},\n",
    "       {'input_dim': 32, 'output_dim': 48, 'activation': 'relu'},\n",
    "       {'input_dim': 48, 'output_dim': 64, 'activation': 'relu'}],\n",
    "         \n",
    "\n",
    "\n",
    "\n",
    "\n",
    "\n",
    "\n",
    "\n",
    "kf = KFold(n_splits=5)\n",
    "df_idx = 0\n",
    "for size in sizes:\n",
    "    print(size)\n",
    "    fold_avg_train_losses = []\n",
    "    fold_avg_val_losses = []\n",
    "    for fold_idx, (train,val) in enumerate(kf.split(X_train,y_train)):\n",
    "        fold_idx = fold_idx + 1\n",
    "        \n",
    "        \n",
    "        # fit NN using current architecture size (i.e, 2 layers, 4 layers, etc)\n",
    "        # using stochastic gradient descent\n",
    "        nn = NeuralNetwork(nn_arch=sizes[size],\n",
    "                       lr=0.001, batch_size=1, seed=42, epochs=500, \n",
    "                        loss_function='mean_squared_error') \n",
    "        #fit this fold. test data is still held out\n",
    "        train_loss, val_loss = nn.fit(X_train[train],y_train[train],\n",
    "                                       X_train[val],y_train[val])\n",
    "        fold_avg_train_loss = np.mean(train_loss) #avg (across epochs) training loss for this fold\n",
    "        fold_avg_train_losses.append(fold_avg_train_loss)\n",
    "\n",
    "        fold_avg_val_loss = np.mean(val_loss) #avg (across epochs) validation loss for this fold\n",
    "        fold_avg_val_losses.append(fold_avg_val_loss)\n",
    "\n",
    "\n",
    "        #store hyperparameters and per-fold results\n",
    "        tuning_results_df.loc[df_idx,\"size\"]=size\n",
    "        tuning_results_df.loc[df_idx,f\"train_error_fold_{fold_idx}\"] = fold_avg_train_loss\n",
    "        tuning_results_df.loc[df_idx,f\"val_error_fold_{fold_idx}\"] = fold_avg_val_loss\n",
    "\n",
    "    #store average train and val loss across all folds for this combination of hyperparameters\n",
    "    tuning_results_df.loc[df_idx,\"avg_train_error\"] = np.mean(fold_avg_train_losses)\n",
    "    tuning_results_df.loc[df_idx,\"avg_val_error\"] = np.mean(fold_avg_val_losses)\n",
    "\n",
    "    df_idx +=1\n",
    "            "
   ]
  },
  {
   "cell_type": "code",
   "execution_count": 81,
   "id": "f3b8709a",
   "metadata": {},
   "outputs": [
    {
     "data": {
      "text/html": [
       "<div>\n",
       "<style scoped>\n",
       "    .dataframe tbody tr th:only-of-type {\n",
       "        vertical-align: middle;\n",
       "    }\n",
       "\n",
       "    .dataframe tbody tr th {\n",
       "        vertical-align: top;\n",
       "    }\n",
       "\n",
       "    .dataframe thead th {\n",
       "        text-align: right;\n",
       "    }\n",
       "</style>\n",
       "<table border=\"1\" class=\"dataframe\">\n",
       "  <thead>\n",
       "    <tr style=\"text-align: right;\">\n",
       "      <th></th>\n",
       "      <th>size</th>\n",
       "      <th>avg_train_error</th>\n",
       "      <th>avg_val_error</th>\n",
       "      <th>train_error_fold_1</th>\n",
       "      <th>train_error_fold_2</th>\n",
       "      <th>train_error_fold_3</th>\n",
       "      <th>train_error_fold_4</th>\n",
       "      <th>train_error_fold_5</th>\n",
       "      <th>val_error_fold_1</th>\n",
       "      <th>val_error_fold_2</th>\n",
       "      <th>val_error_fold_3</th>\n",
       "      <th>val_error_fold_4</th>\n",
       "      <th>val_error_fold_5</th>\n",
       "    </tr>\n",
       "  </thead>\n",
       "  <tbody>\n",
       "    <tr>\n",
       "      <th>0</th>\n",
       "      <td>2</td>\n",
       "      <td>8.170597</td>\n",
       "      <td>8.163216</td>\n",
       "      <td>7.594967</td>\n",
       "      <td>7.922113</td>\n",
       "      <td>8.018097</td>\n",
       "      <td>8.547432</td>\n",
       "      <td>8.770379</td>\n",
       "      <td>7.120172</td>\n",
       "      <td>8.093121</td>\n",
       "      <td>8.465553</td>\n",
       "      <td>8.63345</td>\n",
       "      <td>8.503786</td>\n",
       "    </tr>\n",
       "    <tr>\n",
       "      <th>1</th>\n",
       "      <td>4</td>\n",
       "      <td>6.080416</td>\n",
       "      <td>6.10391</td>\n",
       "      <td>4.266077</td>\n",
       "      <td>6.291071</td>\n",
       "      <td>6.826829</td>\n",
       "      <td>6.26392</td>\n",
       "      <td>6.754185</td>\n",
       "      <td>3.987092</td>\n",
       "      <td>6.256604</td>\n",
       "      <td>7.224299</td>\n",
       "      <td>6.380818</td>\n",
       "      <td>6.670737</td>\n",
       "    </tr>\n",
       "    <tr>\n",
       "      <th>2</th>\n",
       "      <td>6</td>\n",
       "      <td>7.868176</td>\n",
       "      <td>7.865956</td>\n",
       "      <td>6.009164</td>\n",
       "      <td>6.859886</td>\n",
       "      <td>6.232084</td>\n",
       "      <td>13.899059</td>\n",
       "      <td>6.340684</td>\n",
       "      <td>5.626828</td>\n",
       "      <td>6.896004</td>\n",
       "      <td>6.602483</td>\n",
       "      <td>13.911804</td>\n",
       "      <td>6.292663</td>\n",
       "    </tr>\n",
       "    <tr>\n",
       "      <th>3</th>\n",
       "      <td>8</td>\n",
       "      <td>NaN</td>\n",
       "      <td>NaN</td>\n",
       "      <td>14.072019</td>\n",
       "      <td>NaN</td>\n",
       "      <td>12.221626</td>\n",
       "      <td>5.847786</td>\n",
       "      <td>14.012945</td>\n",
       "      <td>13.215926</td>\n",
       "      <td>NaN</td>\n",
       "      <td>12.844092</td>\n",
       "      <td>5.970574</td>\n",
       "      <td>13.25842</td>\n",
       "    </tr>\n",
       "  </tbody>\n",
       "</table>\n",
       "</div>"
      ],
      "text/plain": [
       "  size avg_train_error avg_val_error train_error_fold_1 train_error_fold_2  \\\n",
       "0    2        8.170597      8.163216           7.594967           7.922113   \n",
       "1    4        6.080416       6.10391           4.266077           6.291071   \n",
       "2    6        7.868176      7.865956           6.009164           6.859886   \n",
       "3    8             NaN           NaN          14.072019                NaN   \n",
       "\n",
       "  train_error_fold_3 train_error_fold_4 train_error_fold_5 val_error_fold_1  \\\n",
       "0           8.018097           8.547432           8.770379         7.120172   \n",
       "1           6.826829            6.26392           6.754185         3.987092   \n",
       "2           6.232084          13.899059           6.340684         5.626828   \n",
       "3          12.221626           5.847786          14.012945        13.215926   \n",
       "\n",
       "  val_error_fold_2 val_error_fold_3 val_error_fold_4 val_error_fold_5  \n",
       "0         8.093121         8.465553          8.63345         8.503786  \n",
       "1         6.256604         7.224299         6.380818         6.670737  \n",
       "2         6.896004         6.602483        13.911804         6.292663  \n",
       "3              NaN        12.844092         5.970574         13.25842  "
      ]
     },
     "metadata": {},
     "output_type": "display_data"
    }
   ],
   "source": [
    "#resulting dataframe stores error from each fold with each combination of hyperparameters\n",
    "#as well as the average error across all 5 folds with each combnation of hyperparameters\n",
    "display(tuning_results_df)"
   ]
  },
  {
   "cell_type": "code",
   "execution_count": 83,
   "id": "03c4b730",
   "metadata": {},
   "outputs": [
    {
     "data": {
      "text/plain": [
       "size                         4\n",
       "avg_train_error       6.080416\n",
       "avg_val_error          6.10391\n",
       "train_error_fold_1    4.266077\n",
       "train_error_fold_2    6.291071\n",
       "train_error_fold_3    6.826829\n",
       "train_error_fold_4     6.26392\n",
       "train_error_fold_5    6.754185\n",
       "val_error_fold_1      3.987092\n",
       "val_error_fold_2      6.256604\n",
       "val_error_fold_3      7.224299\n",
       "val_error_fold_4      6.380818\n",
       "val_error_fold_5      6.670737\n",
       "Name: 1, dtype: object"
      ]
     },
     "metadata": {},
     "output_type": "display_data"
    },
    {
     "name": "stdout",
     "output_type": "stream",
     "text": [
      "The optimal neural network had 4 layers\n"
     ]
    }
   ],
   "source": [
    "#get data for combination of hyperparameters that gave the lowest average MSE\n",
    "# across epochs and folds in the validation set\n",
    "display(tuning_results_df.loc[tuning_results_df['avg_val_error'].astype(float).idxmin()])\n",
    "best_nn_size = tuning_results_df.loc[tuning_results_df['avg_val_error'].astype(float).idxmin(),'size']\n",
    "\n",
    "print(f\"The optimal neural network had {best_nn_size} layers\")\n"
   ]
  },
  {
   "cell_type": "markdown",
   "id": "299df244",
   "metadata": {},
   "source": [
    "#### Re-training model with optimal set of hyperparameters and plotting per-epoch train and test MSE\n",
    "\n",
    "* I tuned the architecture (i.e # of layers) hyperparameter of the neural network by implementing a cross-validated grid search; the size of the NN that minimized the average across-fold MSE was used moving forward. A subset of samples were completely held out from this procedure to be used for validation/testing here. \n",
    "* These results suggest the model was able to learn from the training data, as the training loss decreased as the number of epochs increased. After about 2 epochs, the validation loss began to plateau, suggesting the model was beginning to overfit to the training data after this point,"
   ]
  },
  {
   "cell_type": "code",
   "execution_count": 85,
   "id": "631ab202",
   "metadata": {},
   "outputs": [
    {
     "data": {
      "image/png": "[encoded data removed]",
      "text/plain": [
       "<Figure size 576x576 with 2 Axes>"
      ]
     },
     "metadata": {
      "needs_background": "light"
     },
     "output_type": "display_data"
    }
   ],
   "source": [
    "nn = NeuralNetwork(nn_arch = sizes[best_nn_size],\n",
    "                       lr=0.001, batch_size=1, seed=42, epochs=500, \n",
    "                        loss_function='mean_squared_error')\n",
    "\n",
    "#X_train and y_train are the same observations that were used for cross validation grid search\n",
    "#X_test and y_test were completely held out of the grid search procedure\n",
    "per_epoch_train_loss, per_epoch_val_loss = nn.fit(X_train,y_train,\n",
    "                                               X_test,y_test)\n",
    "\n",
    "\n",
    "\n",
    "loss_hist = per_epoch_train_loss\n",
    "loss_hist_val = per_epoch_val_loss\n",
    "assert len(loss_hist) > 0, \"Need to run training before plotting loss history\"\n",
    "fig, axs = plt.subplots(2, figsize=(8,8))\n",
    "fig.suptitle('Loss History')\n",
    "axs[0].plot(np.arange(len(loss_hist)), loss_hist)\n",
    "axs[0].set_title('Training Loss')\n",
    "axs[1].plot(np.arange(len(loss_hist_val)), loss_hist_val)\n",
    "axs[1].set_title('Validation Loss')\n",
    "plt.xlabel('Epochs')\n",
    "axs[0].set_ylabel('Train Loss')\n",
    "axs[1].set_ylabel('Val Loss')\n",
    "fig.tight_layout()\n",
    "plt.show() "
   ]
  },
  {
   "cell_type": "markdown",
   "id": "bc0e1ef6",
   "metadata": {},
   "source": [
    "### Average reconstruction error over held out test dataset\n",
    "* Take trained model and form predictions on entire datase then calculate MSE across the held out test dataset"
   ]
  },
  {
   "cell_type": "code",
   "execution_count": 86,
   "id": "62330b1a",
   "metadata": {},
   "outputs": [
    {
     "name": "stdout",
     "output_type": "stream",
     "text": [
      "Average reconstruction error over unseen test data 29.955334595959595\n"
     ]
    }
   ],
   "source": [
    "\n",
    "#average MSE from unseen test data\n",
    "test_predictions = nn.predict(X_test)\n",
    "test_reconstruction_error = nn._mean_squared_error(X_test,test_predictions)\n",
    "print(f\"Average reconstruction error over unseen test data {test_reconstruction_error}\")"
   ]
  },
  {
   "cell_type": "code",
   "execution_count": 128,
   "id": "ab18dc33",
   "metadata": {},
   "outputs": [],
   "source": [
    "np.random.seed(42)\n",
    "X = np.array([[1,1,1],\n",
    "                  [2,2,2],\n",
    "                  [3,3,3]])\n",
    "\n",
    "test= NeuralNetwork(nn_arch=[{'input_dim': 3, 'output_dim': 2, 'activation': 'relu'},\n",
    "                        {'input_dim': 2, 'output_dim': 3, 'activation': 'relu'}],\n",
    "                       lr=0.001, batch_size=3, seed=42, epochs=25,\n",
    "                       loss_function='mean_squared_error')\n",
    "\n",
    "test._param_dict = {'W1': np.array([[ 0.5, 0.5,  0.5],\n",
    "                    [ 0.5, 0.5, 0.5 ]]),\n",
    "             'b1': np.array([[1.0],\n",
    "                            [1.0]]),\n",
    "             'W2': np.array([[0.5,  0.5 ],\n",
    "                    [0.5, 0.5],\n",
    "                    [ 0.5, 0.5]]),\n",
    "             'b2': np.array([[1.0],\n",
    "                            [1.0],\n",
    "                            [1.0]])}"
   ]
  },
  {
   "cell_type": "code",
   "execution_count": 129,
   "id": "6a2029c7",
   "metadata": {},
   "outputs": [],
   "source": [
    "output,cache = test.forward(X)"
   ]
  },
  {
   "cell_type": "code",
   "execution_count": 146,
   "id": "d52ce922",
   "metadata": {},
   "outputs": [],
   "source": [
    "Z_curr = cache[\"Z2\"]\n",
    "dZdW = cache[\"A1\"]\n",
    "dAdZ = test._activation_function_backprop(Z_curr, 'relu')\n",
    "dJdA = dJdA = (output - X) / X.size\n",
    "delta = np.multiply(dJdA, dAdZ)"
   ]
  },
  {
   "cell_type": "code",
   "execution_count": 148,
   "id": "1a1ecff8",
   "metadata": {},
   "outputs": [],
   "source": [
    "dW_curr = delta.T.dot(dZdW)\n",
    "db_curr = np.sum(delta,axis = 0,keepdims=True).T"
   ]
  },
  {
   "cell_type": "code",
   "execution_count": 147,
   "id": "017e5538",
   "metadata": {},
   "outputs": [
    {
     "data": {
      "text/plain": [
       "array([[0.27777778, 0.27777778, 0.27777778],\n",
       "       [0.33333333, 0.33333333, 0.33333333],\n",
       "       [0.38888889, 0.38888889, 0.38888889]])"
      ]
     },
     "execution_count": 147,
     "metadata": {},
     "output_type": "execute_result"
    }
   ],
   "source": [
    "delta"
   ]
  },
  {
   "cell_type": "code",
   "execution_count": 151,
   "id": "41360c45",
   "metadata": {},
   "outputs": [
    {
     "data": {
      "text/plain": [
       "array([[4.16666667, 4.16666667],\n",
       "       [4.16666667, 4.16666667],\n",
       "       [4.16666667, 4.16666667]])"
      ]
     },
     "execution_count": 151,
     "metadata": {},
     "output_type": "execute_result"
    }
   ],
   "source": [
    "dW_curr"
   ]
  },
  {
   "cell_type": "code",
   "execution_count": 127,
   "id": "d7e988c5",
   "metadata": {},
   "outputs": [
    {
     "data": {
      "text/plain": [
       "True"
      ]
     },
     "execution_count": 127,
     "metadata": {},
     "output_type": "execute_result"
    }
   ],
   "source": [
    "np.allclose(dW_curr,dW_curr) and np.allclose(dW_curr,dW_curr)"
   ]
  },
  {
   "cell_type": "code",
   "execution_count": 142,
   "id": "4655fccc",
   "metadata": {},
   "outputs": [
    {
     "data": {
      "text/plain": [
       "1797"
      ]
     },
     "execution_count": 142,
     "metadata": {},
     "output_type": "execute_result"
    }
   ],
   "source": [
    "y.size"
   ]
  },
  {
   "cell_type": "code",
   "execution_count": 134,
   "id": "1af4e455",
   "metadata": {},
   "outputs": [
    {
     "data": {
      "text/plain": [
       "array([[12.5, 12.5],\n",
       "       [12.5, 12.5],\n",
       "       [12.5, 12.5]])"
      ]
     },
     "execution_count": 134,
     "metadata": {},
     "output_type": "execute_result"
    }
   ],
   "source": [
    "dW_curr"
   ]
  },
  {
   "cell_type": "code",
   "execution_count": null,
   "id": "b8c2e7b2",
   "metadata": {},
   "outputs": [],
   "source": []
  }
 ],
 "metadata": {
  "kernelspec": {
   "display_name": "Python 3 (ipykernel)",
   "language": "python",
   "name": "python3"
  },
  "language_info": {
   "codemirror_mode": {
    "name": "ipython",
    "version": 3
   },
   "file_extension": ".py",
   "mimetype": "text/x-python",
   "name": "python",
   "nbconvert_exporter": "python",
   "pygments_lexer": "ipython3",
   "version": "3.9.7"
  }
 },
 "nbformat": 4,
 "nbformat_minor": 5
}