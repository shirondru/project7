{
 "cells": [
  {
   "cell_type": "code",
   "execution_count": 1,
   "id": "c796a9ae",
   "metadata": {},
   "outputs": [],
   "source": [
    "import numpy as np\n",
    "from typing import List, Tuple\n",
    "from numpy.typing import ArrayLike\n",
    "from nn import NeuralNetwork, one_hot_encode_seqs, sample_seqs\n",
    "from sklearn import datasets\n",
    "from sklearn.model_selection import train_test_split,KFold\n",
    "import pandas as pd\n",
    "import matplotlib.pyplot as plt\n"
   ]
  },
  {
   "cell_type": "markdown",
   "id": "93e782a0",
   "metadata": {},
   "source": [
    "### 5-fold CV Grid Search to find optimal NN architecture\n",
    "* 5-fold Grid search CV was implemented manually to find optimal architecture (i.e, # of layers) hyperparameter \n",
    "* Data was split into train and test set. Test set was completely held out for the grid search CV; grid search hyperparameter tuning was done using only the training data. \n",
    "* Note that the grid search will take >1hr"
   ]
  },
  {
   "cell_type": "code",
   "execution_count": 2,
   "id": "316ff326",
   "metadata": {
    "scrolled": true
   },
   "outputs": [
    {
     "name": "stdout",
     "output_type": "stream",
     "text": [
      "2\n",
      "4\n",
      "6\n"
     ]
    }
   ],
   "source": [
    "## load and split data into train and test set. test set will be completely held out\n",
    "# of grid search via cross validation.\n",
    "np.random.seed(42)\n",
    "digits = datasets.load_digits()\n",
    "X = digits['data']\n",
    "y = digits['target']\n",
    "X_train, X_test, y_train, y_test = train_test_split(X, y, test_size=0.33, random_state=42)\n",
    "\n",
    "\n",
    "# perform Grid search via cross validation on the training data  \n",
    "#training data will be split into train and validation set, while the original \n",
    "#test set is held out\n",
    "\n",
    "#saving the average MSE across all epochs in each fold with each combination of proposed\n",
    "#hyperparameters\n",
    "columns = [\"size\",\"avg_train_error\",\"avg_val_error\"] + [f\"train_error_fold_{x}\" for x in range(1,6)] \\\n",
    "         + [f\"val_error_fold_{x}\" for x in range(1,6)]            \n",
    "tuning_results_df = pd.DataFrame(columns = columns)\n",
    "\n",
    "\n",
    "sizes = {2:\n",
    "       [{'input_dim': 64, 'output_dim': 16, 'activation': 'relu'},  \n",
    "       {'input_dim': 16, 'output_dim': 64, 'activation': 'relu'}],\n",
    "    \n",
    "       4:\n",
    "        [{'input_dim': 64, 'output_dim': 32, 'activation': 'relu'},\n",
    "       {'input_dim': 32, 'output_dim': 16, 'activation': 'relu'},\n",
    "       {'input_dim': 16, 'output_dim': 32, 'activation': 'relu'},  \n",
    "       {'input_dim': 32, 'output_dim': 64, 'activation': 'relu'}],\n",
    "         \n",
    "         6:\n",
    "          [{'input_dim': 64, 'output_dim': 48, 'activation': 'relu'},\n",
    "       {'input_dim': 48, 'output_dim': 32, 'activation': 'relu'},\n",
    "       {'input_dim': 32, 'output_dim': 16, 'activation': 'relu'},\n",
    "       {'input_dim': 16, 'output_dim': 32, 'activation': 'relu'},\n",
    "       {'input_dim': 32, 'output_dim': 48, 'activation': 'relu'},\n",
    "       {'input_dim': 48, 'output_dim': 64, 'activation': 'relu'}]}\n",
    "         \n",
    "\n",
    "\n",
    "\n",
    "\n",
    "\n",
    "\n",
    "\n",
    "kf = KFold(n_splits=5)\n",
    "df_idx = 0\n",
    "for size in sizes:\n",
    "    print(size)\n",
    "    fold_avg_train_losses = []\n",
    "    fold_avg_val_losses = []\n",
    "    for fold_idx, (train,val) in enumerate(kf.split(X_train,y_train)):\n",
    "        fold_idx = fold_idx + 1\n",
    "        \n",
    "        \n",
    "        # fit NN using current architecture size (i.e, 2 layers, 4 layers, etc)\n",
    "        # using stochastic gradient descent\n",
    "        nn = NeuralNetwork(nn_arch=sizes[size],\n",
    "                       lr=0.001, batch_size=200, seed=42, epochs=250, \n",
    "                        loss_function='mean_squared_error') \n",
    "        #fit this fold. test data is still held out\n",
    "        train_loss, val_loss = nn.fit(X_train[train],y_train[train],\n",
    "                                       X_train[val],y_train[val])\n",
    "        fold_avg_train_loss = np.mean(train_loss) #avg (across epochs) training loss for this fold\n",
    "        fold_avg_train_losses.append(fold_avg_train_loss)\n",
    "\n",
    "        fold_avg_val_loss = np.mean(val_loss) #avg (across epochs) validation loss for this fold\n",
    "        fold_avg_val_losses.append(fold_avg_val_loss)\n",
    "\n",
    "\n",
    "        #store hyperparameters and per-fold results\n",
    "        tuning_results_df.loc[df_idx,\"size\"]=size\n",
    "        tuning_results_df.loc[df_idx,f\"train_error_fold_{fold_idx}\"] = fold_avg_train_loss\n",
    "        tuning_results_df.loc[df_idx,f\"val_error_fold_{fold_idx}\"] = fold_avg_val_loss\n",
    "\n",
    "    #store average train and val loss across all folds for this combination of hyperparameters\n",
    "    tuning_results_df.loc[df_idx,\"avg_train_error\"] = np.mean(fold_avg_train_losses)\n",
    "    tuning_results_df.loc[df_idx,\"avg_val_error\"] = np.mean(fold_avg_val_losses)\n",
    "\n",
    "    df_idx +=1\n",
    "            "
   ]
  },
  {
   "cell_type": "code",
   "execution_count": 7,
   "id": "f3b8709a",
   "metadata": {},
   "outputs": [
    {
     "data": {
      "text/html": [
       "<div>\n",
       "<style scoped>\n",
       "    .dataframe tbody tr th:only-of-type {\n",
       "        vertical-align: middle;\n",
       "    }\n",
       "\n",
       "    .dataframe tbody tr th {\n",
       "        vertical-align: top;\n",
       "    }\n",
       "\n",
       "    .dataframe thead th {\n",
       "        text-align: right;\n",
       "    }\n",
       "</style>\n",
       "<table border=\"1\" class=\"dataframe\">\n",
       "  <thead>\n",
       "    <tr style=\"text-align: right;\">\n",
       "      <th></th>\n",
       "      <th>size</th>\n",
       "      <th>avg_train_error</th>\n",
       "      <th>avg_val_error</th>\n",
       "      <th>train_error_fold_1</th>\n",
       "      <th>train_error_fold_2</th>\n",
       "      <th>train_error_fold_3</th>\n",
       "      <th>train_error_fold_4</th>\n",
       "      <th>train_error_fold_5</th>\n",
       "      <th>val_error_fold_1</th>\n",
       "      <th>val_error_fold_2</th>\n",
       "      <th>val_error_fold_3</th>\n",
       "      <th>val_error_fold_4</th>\n",
       "      <th>val_error_fold_5</th>\n",
       "    </tr>\n",
       "  </thead>\n",
       "  <tbody>\n",
       "    <tr>\n",
       "      <th>0</th>\n",
       "      <td>2</td>\n",
       "      <td>3.773655</td>\n",
       "      <td>3.971131</td>\n",
       "      <td>3.363513</td>\n",
       "      <td>4.716469</td>\n",
       "      <td>4.471975</td>\n",
       "      <td>3.18595</td>\n",
       "      <td>3.130368</td>\n",
       "      <td>3.344695</td>\n",
       "      <td>5.038331</td>\n",
       "      <td>4.731232</td>\n",
       "      <td>3.325263</td>\n",
       "      <td>3.416135</td>\n",
       "    </tr>\n",
       "    <tr>\n",
       "      <th>1</th>\n",
       "      <td>4</td>\n",
       "      <td>5.645698</td>\n",
       "      <td>5.709269</td>\n",
       "      <td>7.503757</td>\n",
       "      <td>6.653019</td>\n",
       "      <td>4.410822</td>\n",
       "      <td>5.277392</td>\n",
       "      <td>4.3835</td>\n",
       "      <td>7.02076</td>\n",
       "      <td>6.682882</td>\n",
       "      <td>4.796799</td>\n",
       "      <td>5.463975</td>\n",
       "      <td>4.581931</td>\n",
       "    </tr>\n",
       "    <tr>\n",
       "      <th>2</th>\n",
       "      <td>6</td>\n",
       "      <td>4.835813</td>\n",
       "      <td>4.995137</td>\n",
       "      <td>5.484874</td>\n",
       "      <td>4.240692</td>\n",
       "      <td>4.363121</td>\n",
       "      <td>5.212855</td>\n",
       "      <td>4.877522</td>\n",
       "      <td>5.304728</td>\n",
       "      <td>4.629049</td>\n",
       "      <td>4.696975</td>\n",
       "      <td>5.358922</td>\n",
       "      <td>4.986014</td>\n",
       "    </tr>\n",
       "  </tbody>\n",
       "</table>\n",
       "</div>"
      ],
      "text/plain": [
       "  size avg_train_error avg_val_error train_error_fold_1 train_error_fold_2  \\\n",
       "0    2        3.773655      3.971131           3.363513           4.716469   \n",
       "1    4        5.645698      5.709269           7.503757           6.653019   \n",
       "2    6        4.835813      4.995137           5.484874           4.240692   \n",
       "\n",
       "  train_error_fold_3 train_error_fold_4 train_error_fold_5 val_error_fold_1  \\\n",
       "0           4.471975            3.18595           3.130368         3.344695   \n",
       "1           4.410822           5.277392             4.3835          7.02076   \n",
       "2           4.363121           5.212855           4.877522         5.304728   \n",
       "\n",
       "  val_error_fold_2 val_error_fold_3 val_error_fold_4 val_error_fold_5  \n",
       "0         5.038331         4.731232         3.325263         3.416135  \n",
       "1         6.682882         4.796799         5.463975         4.581931  \n",
       "2         4.629049         4.696975         5.358922         4.986014  "
      ]
     },
     "metadata": {},
     "output_type": "display_data"
    }
   ],
   "source": [
    "#resulting dataframe stores error from each fold with each combination of hyperparameters\n",
    "#as well as the average error across all 5 folds with each combnation of hyperparameters\n",
    "display(tuning_results_df)"
   ]
  },
  {
   "cell_type": "code",
   "execution_count": 4,
   "id": "03c4b730",
   "metadata": {},
   "outputs": [
    {
     "data": {
      "text/plain": [
       "size                         2\n",
       "avg_train_error       3.773655\n",
       "avg_val_error         3.971131\n",
       "train_error_fold_1    3.363513\n",
       "train_error_fold_2    4.716469\n",
       "train_error_fold_3    4.471975\n",
       "train_error_fold_4     3.18595\n",
       "train_error_fold_5    3.130368\n",
       "val_error_fold_1      3.344695\n",
       "val_error_fold_2      5.038331\n",
       "val_error_fold_3      4.731232\n",
       "val_error_fold_4      3.325263\n",
       "val_error_fold_5      3.416135\n",
       "Name: 0, dtype: object"
      ]
     },
     "metadata": {},
     "output_type": "display_data"
    },
    {
     "name": "stdout",
     "output_type": "stream",
     "text": [
      "The optimal neural network had 2 layers\n"
     ]
    }
   ],
   "source": [
    "#get data for combination of hyperparameters that gave the lowest average MSE\n",
    "# across epochs and folds in the validation set\n",
    "display(tuning_results_df.loc[tuning_results_df['avg_val_error'].astype(float).idxmin()])\n",
    "best_nn_size = tuning_results_df.loc[tuning_results_df['avg_val_error'].astype(float).idxmin(),'size']\n",
    "\n",
    "print(f\"The optimal neural network had {best_nn_size} layers\")\n"
   ]
  },
  {
   "cell_type": "markdown",
   "id": "299df244",
   "metadata": {},
   "source": [
    "#### Re-training model with optimal hyperparameters and plotting per-epoch train and test MSE\n",
    "\n",
    "* I tuned the architecture (i.e # of layers) hyperparameter of the neural network by implementing a cross-validated grid search; the size of the NN that minimized the average across-fold MSE was used moving forward. A subset of samples were completely held out from this procedure to be used for validation/testing here. \n",
    "    * Grid search hyperparameter tuning suggested the autencoder with 2 total layers (rather than one with 4 or 6 layers) performed the best.\n",
    "* These results suggest the model was able to learn from the training data, as the training loss decreased as the number of epochs increased. After about 2 epochs, the validation loss began to plateau, suggesting the model was beginning to overfit to the training data after this point. "
   ]
  },
  {
   "cell_type": "code",
   "execution_count": 5,
   "id": "631ab202",
   "metadata": {},
   "outputs": [
    {
     "data": {
      "image/png": "[encoded data removed]",
      "text/plain": [
       "<Figure size 576x576 with 2 Axes>"
      ]
     },
     "metadata": {
      "needs_background": "light"
     },
     "output_type": "display_data"
    }
   ],
   "source": [
    "nn = NeuralNetwork(nn_arch = sizes[best_nn_size],\n",
    "                       lr=0.001, batch_size=1, seed=42, epochs=500, \n",
    "                        loss_function='mean_squared_error')\n",
    "\n",
    "#X_train and y_train are the same observations that were used for cross validation grid search\n",
    "#X_test and y_test were completely held out of the grid search procedure\n",
    "per_epoch_train_loss, per_epoch_val_loss = nn.fit(X_train,y_train,\n",
    "                                               X_test,y_test)\n",
    "\n",
    "\n",
    "\n",
    "loss_hist = per_epoch_train_loss\n",
    "loss_hist_val = per_epoch_val_loss\n",
    "assert len(loss_hist) > 0, \"Need to run training before plotting loss history\"\n",
    "fig, axs = plt.subplots(2, figsize=(8,8))\n",
    "fig.suptitle('Loss History')\n",
    "axs[0].plot(np.arange(len(loss_hist)), loss_hist)\n",
    "axs[0].set_title('Training Loss')\n",
    "axs[1].plot(np.arange(len(loss_hist_val)), loss_hist_val)\n",
    "axs[1].set_title('Validation Loss')\n",
    "plt.xlabel('Epochs')\n",
    "axs[0].set_ylabel('Train Loss')\n",
    "axs[1].set_ylabel('Val Loss')\n",
    "fig.tight_layout()\n",
    "plt.show() "
   ]
  },
  {
   "cell_type": "markdown",
   "id": "bc0e1ef6",
   "metadata": {},
   "source": [
    "### Average reconstruction error over held out test dataset\n",
    "* Take trained model and form predictions on entire datase then calculate MSE across the held out test dataset"
   ]
  },
  {
   "cell_type": "code",
   "execution_count": 6,
   "id": "62330b1a",
   "metadata": {},
   "outputs": [
    {
     "name": "stdout",
     "output_type": "stream",
     "text": [
      "Average reconstruction error over unseen test data 23.50892844877099\n"
     ]
    }
   ],
   "source": [
    "#average MSE from unseen test data\n",
    "test_predictions = nn.predict(X_test)\n",
    "test_reconstruction_error = nn._mean_squared_error(X_test,test_predictions)\n",
    "print(f\"Average reconstruction error over unseen test data {test_reconstruction_error}\")"
   ]
  }
 ],
 "metadata": {
  "kernelspec": {
   "display_name": "Python 3 (ipykernel)",
   "language": "python",
   "name": "python3"
  },
  "language_info": {
   "codemirror_mode": {
    "name": "ipython",
    "version": 3
   },
   "file_extension": ".py",
   "mimetype": "text/x-python",
   "name": "python",
   "nbconvert_exporter": "python",
   "pygments_lexer": "ipython3",
   "version": "3.9.7"
  }
 },
 "nbformat": 4,
 "nbformat_minor": 5
}