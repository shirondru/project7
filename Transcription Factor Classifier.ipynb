{
 "cells": [
  {
   "cell_type": "code",
   "execution_count": 1,
   "id": "fff2777b",
   "metadata": {},
   "outputs": [],
   "source": [
    "import numpy as np\n",
    "from typing import List, Tuple\n",
    "from numpy.typing import ArrayLike\n",
    "from nn import NeuralNetwork, one_hot_encode_seqs, sample_seqs,read_text_file,read_fasta_file\n",
    "from sklearn import datasets\n",
    "from sklearn.model_selection import train_test_split,KFold\n",
    "import pandas as pd\n",
    "import matplotlib.pyplot as plt\n"
   ]
  },
  {
   "cell_type": "code",
   "execution_count": 2,
   "id": "3ece783c",
   "metadata": {},
   "outputs": [],
   "source": [
    "rap1 = read_text_file(\"./data/rap1-lieb-positives.txt\")\n",
    "# yeast_neg = read_fasta_file(\"./data/yeast-upstream-1k-negative.fa\")\n",
    "rap_test = read_text_file(\"./data/rap1-lieb-test.txt\")"
   ]
  },
  {
   "cell_type": "markdown",
   "id": "81365c3b",
   "metadata": {},
   "source": [
    "# Sampling Scheme: Upsampling\n",
    "* I chose to upsample the minority class to keep the dataset large enough to successfuly train a neural network, which needs a lot of data, while keeping the classes balanced. An alternative approach, like downsampling, would have kept 137 positive and 137 negative data points, which would have been a significant reduction in the sample size, possibly leading to a poorly trained model.\n",
    "* The upsampling procedure is implemented via sampling with replacement of the minority class, while keeping all members of the majority class. In this case, the positive positive Rap1 motifs will be resampled with replacement until there are an equal number of positive and negative motifs (3163 of each)"
   ]
  },
  {
   "cell_type": "code",
   "execution_count": 3,
   "id": "ee7274b0",
   "metadata": {},
   "outputs": [],
   "source": [
    "np.random.seed(42)\n",
    "#concatenate positive and negative and create a list of labels\n",
    "seqs = rap1 + rap_test\n",
    "labels = [True] * len(rap1) + [False]*len(rap_test)\n",
    "\n",
    "X,y = sample_seqs(seqs,labels,random_state = 42)\n",
    "X_train, X_test, y_train, y_test = train_test_split(X, y, test_size=0.33, random_state=42)\n",
    "\n",
    "X_train = one_hot_encode_seqs(X_train)\n",
    "X_train = np.stack(X_train,axis=0) #convert list of np arrays back into a 2D array\n",
    "\n",
    "X_test = one_hot_encode_seqs(X_test)\n",
    "X_test = np.stack(X_test,axis = 0)"
   ]
  },
  {
   "cell_type": "markdown",
   "id": "c1949cf2",
   "metadata": {},
   "source": [
    "### 5-fold CV Grid Search to find optimal learning rate and activation function hyperparameters\n"
   ]
  },
  {
   "cell_type": "code",
   "execution_count": 5,
   "id": "d20d4416",
   "metadata": {},
   "outputs": [],
   "source": [
    "columns = [\"lr\",\"activation_layer1\",\"avg_train_error\",\"avg_val_error\"] + [f\"train_error_fold_{x}\" for x in range(1,6)] \\\n",
    "         + [f\"val_error_fold_{x}\" for x in range(1,6)]            \n",
    "tuning_results_df = pd.DataFrame(columns = columns)\n",
    "lrs = [0.01,0.001,0.0001]\n",
    "activations = ['relu','sigmoid']                                              \n",
    "kf = KFold(n_splits=5)\n",
    "df_idx = 0\n",
    "for lr in lrs:\n",
    "    for activation_layer1 in activations:\n",
    "        fold_avg_train_losses = []\n",
    "        fold_avg_val_losses = []\n",
    "        for fold_idx, (train,val) in enumerate(kf.split(X_train,y_train)):\n",
    "            fold_idx = fold_idx + 1\n",
    "            nn = NeuralNetwork(nn_arch=[{'input_dim': 68, 'output_dim': 16, 'activation': activation_layer1},\n",
    "                           {'input_dim': 16, 'output_dim': 1, 'activation': 'sigmoid'}],\n",
    "                           lr=lr, batch_size=200, seed=42, epochs=10, loss_function=\n",
    "                           'cross_entropy') \n",
    "            #fit this fold. test data is still held out\n",
    "            train_loss, val_loss = nn.fit(X_train[train],y_train[train],\n",
    "                                           X_train[val],y_train[val])\n",
    "            fold_avg_train_loss = np.mean(train_loss) #avg (across epochs) training loss for this fold\n",
    "            fold_avg_train_losses.append(fold_avg_train_loss)\n",
    "\n",
    "            fold_avg_val_loss = np.mean(val_loss) #avg (across epochs) validation loss for this fold\n",
    "            fold_avg_val_losses.append(fold_avg_val_loss)\n",
    "\n",
    "\n",
    "            #store hyperparameters and per-fold results\n",
    "            tuning_results_df.loc[df_idx,\"lr\"] = lr\n",
    "            tuning_results_df.loc[df_idx,\"activation_layer1\"] = activation_layer1\n",
    "            tuning_results_df.loc[df_idx,f\"train_error_fold_{fold_idx}\"] = fold_avg_train_loss\n",
    "            tuning_results_df.loc[df_idx,f\"val_error_fold_{fold_idx}\"] = fold_avg_val_loss\n",
    "\n",
    "        #store average train and val loss across all folds for this combination of hyperparameters\n",
    "        tuning_results_df.loc[df_idx,\"avg_train_error\"] = np.mean(fold_avg_train_losses)\n",
    "        tuning_results_df.loc[df_idx,\"avg_val_error\"] = np.mean(fold_avg_val_losses)\n",
    "\n",
    "        df_idx +=1"
   ]
  },
  {
   "cell_type": "code",
   "execution_count": 7,
   "id": "19331c67",
   "metadata": {},
   "outputs": [
    {
     "data": {
      "text/html": [
       "<div>\n",
       "<style scoped>\n",
       "    .dataframe tbody tr th:only-of-type {\n",
       "        vertical-align: middle;\n",
       "    }\n",
       "\n",
       "    .dataframe tbody tr th {\n",
       "        vertical-align: top;\n",
       "    }\n",
       "\n",
       "    .dataframe thead th {\n",
       "        text-align: right;\n",
       "    }\n",
       "</style>\n",
       "<table border=\"1\" class=\"dataframe\">\n",
       "  <thead>\n",
       "    <tr style=\"text-align: right;\">\n",
       "      <th></th>\n",
       "      <th>lr</th>\n",
       "      <th>activation_layer1</th>\n",
       "      <th>avg_train_error</th>\n",
       "      <th>avg_val_error</th>\n",
       "      <th>train_error_fold_1</th>\n",
       "      <th>train_error_fold_2</th>\n",
       "      <th>train_error_fold_3</th>\n",
       "      <th>train_error_fold_4</th>\n",
       "      <th>train_error_fold_5</th>\n",
       "      <th>val_error_fold_1</th>\n",
       "      <th>val_error_fold_2</th>\n",
       "      <th>val_error_fold_3</th>\n",
       "      <th>val_error_fold_4</th>\n",
       "      <th>val_error_fold_5</th>\n",
       "    </tr>\n",
       "  </thead>\n",
       "  <tbody>\n",
       "    <tr>\n",
       "      <th>0</th>\n",
       "      <td>0.01</td>\n",
       "      <td>relu</td>\n",
       "      <td>0.532538</td>\n",
       "      <td>0.534016</td>\n",
       "      <td>0.436292</td>\n",
       "      <td>0.658049</td>\n",
       "      <td>0.588366</td>\n",
       "      <td>0.507307</td>\n",
       "      <td>0.472674</td>\n",
       "      <td>0.46127</td>\n",
       "      <td>0.662228</td>\n",
       "      <td>0.580261</td>\n",
       "      <td>0.499808</td>\n",
       "      <td>0.466513</td>\n",
       "    </tr>\n",
       "    <tr>\n",
       "      <th>1</th>\n",
       "      <td>0.01</td>\n",
       "      <td>sigmoid</td>\n",
       "      <td>0.425089</td>\n",
       "      <td>0.425375</td>\n",
       "      <td>0.422641</td>\n",
       "      <td>0.42119</td>\n",
       "      <td>0.428046</td>\n",
       "      <td>0.427036</td>\n",
       "      <td>0.426535</td>\n",
       "      <td>0.445648</td>\n",
       "      <td>0.420543</td>\n",
       "      <td>0.421547</td>\n",
       "      <td>0.419466</td>\n",
       "      <td>0.419674</td>\n",
       "    </tr>\n",
       "    <tr>\n",
       "      <th>2</th>\n",
       "      <td>0.001</td>\n",
       "      <td>relu</td>\n",
       "      <td>0.483271</td>\n",
       "      <td>0.484163</td>\n",
       "      <td>0.475657</td>\n",
       "      <td>0.484307</td>\n",
       "      <td>0.482823</td>\n",
       "      <td>0.486844</td>\n",
       "      <td>0.486723</td>\n",
       "      <td>0.496135</td>\n",
       "      <td>0.48401</td>\n",
       "      <td>0.479823</td>\n",
       "      <td>0.479392</td>\n",
       "      <td>0.481457</td>\n",
       "    </tr>\n",
       "    <tr>\n",
       "      <th>3</th>\n",
       "      <td>0.001</td>\n",
       "      <td>sigmoid</td>\n",
       "      <td>0.675588</td>\n",
       "      <td>0.675191</td>\n",
       "      <td>0.674405</td>\n",
       "      <td>0.675512</td>\n",
       "      <td>0.675385</td>\n",
       "      <td>0.676243</td>\n",
       "      <td>0.676396</td>\n",
       "      <td>0.675541</td>\n",
       "      <td>0.6754</td>\n",
       "      <td>0.675499</td>\n",
       "      <td>0.674672</td>\n",
       "      <td>0.674846</td>\n",
       "    </tr>\n",
       "    <tr>\n",
       "      <th>4</th>\n",
       "      <td>0.0001</td>\n",
       "      <td>relu</td>\n",
       "      <td>0.695</td>\n",
       "      <td>0.694992</td>\n",
       "      <td>0.694438</td>\n",
       "      <td>0.695025</td>\n",
       "      <td>0.695074</td>\n",
       "      <td>0.695463</td>\n",
       "      <td>0.694999</td>\n",
       "      <td>0.696354</td>\n",
       "      <td>0.695562</td>\n",
       "      <td>0.693542</td>\n",
       "      <td>0.693366</td>\n",
       "      <td>0.696137</td>\n",
       "    </tr>\n",
       "    <tr>\n",
       "      <th>5</th>\n",
       "      <td>0.0001</td>\n",
       "      <td>sigmoid</td>\n",
       "      <td>0.697974</td>\n",
       "      <td>0.69786</td>\n",
       "      <td>0.697942</td>\n",
       "      <td>0.697896</td>\n",
       "      <td>0.698046</td>\n",
       "      <td>0.698113</td>\n",
       "      <td>0.697875</td>\n",
       "      <td>0.697995</td>\n",
       "      <td>0.698481</td>\n",
       "      <td>0.696615</td>\n",
       "      <td>0.69713</td>\n",
       "      <td>0.699077</td>\n",
       "    </tr>\n",
       "  </tbody>\n",
       "</table>\n",
       "</div>"
      ],
      "text/plain": [
       "       lr activation_layer1 avg_train_error avg_val_error train_error_fold_1  \\\n",
       "0    0.01              relu        0.532538      0.534016           0.436292   \n",
       "1    0.01           sigmoid        0.425089      0.425375           0.422641   \n",
       "2   0.001              relu        0.483271      0.484163           0.475657   \n",
       "3   0.001           sigmoid        0.675588      0.675191           0.674405   \n",
       "4  0.0001              relu           0.695      0.694992           0.694438   \n",
       "5  0.0001           sigmoid        0.697974       0.69786           0.697942   \n",
       "\n",
       "  train_error_fold_2 train_error_fold_3 train_error_fold_4 train_error_fold_5  \\\n",
       "0           0.658049           0.588366           0.507307           0.472674   \n",
       "1            0.42119           0.428046           0.427036           0.426535   \n",
       "2           0.484307           0.482823           0.486844           0.486723   \n",
       "3           0.675512           0.675385           0.676243           0.676396   \n",
       "4           0.695025           0.695074           0.695463           0.694999   \n",
       "5           0.697896           0.698046           0.698113           0.697875   \n",
       "\n",
       "  val_error_fold_1 val_error_fold_2 val_error_fold_3 val_error_fold_4  \\\n",
       "0          0.46127         0.662228         0.580261         0.499808   \n",
       "1         0.445648         0.420543         0.421547         0.419466   \n",
       "2         0.496135          0.48401         0.479823         0.479392   \n",
       "3         0.675541           0.6754         0.675499         0.674672   \n",
       "4         0.696354         0.695562         0.693542         0.693366   \n",
       "5         0.697995         0.698481         0.696615          0.69713   \n",
       "\n",
       "  val_error_fold_5  \n",
       "0         0.466513  \n",
       "1         0.419674  \n",
       "2         0.481457  \n",
       "3         0.674846  \n",
       "4         0.696137  \n",
       "5         0.699077  "
      ]
     },
     "metadata": {},
     "output_type": "display_data"
    }
   ],
   "source": [
    "#resulting dataframe stores error from each fold with each combination of hyperparameters\n",
    "#as well as the average error across all 5 folds with each combnation of hyperparameters\n",
    "display(tuning_results_df)"
   ]
  },
  {
   "cell_type": "code",
   "execution_count": 8,
   "id": "436ee33a",
   "metadata": {},
   "outputs": [
    {
     "data": {
      "text/plain": [
       "lr                        0.01\n",
       "activation_layer1      sigmoid\n",
       "avg_train_error       0.425089\n",
       "avg_val_error         0.425375\n",
       "train_error_fold_1    0.422641\n",
       "train_error_fold_2     0.42119\n",
       "train_error_fold_3    0.428046\n",
       "train_error_fold_4    0.427036\n",
       "train_error_fold_5    0.426535\n",
       "val_error_fold_1      0.445648\n",
       "val_error_fold_2      0.420543\n",
       "val_error_fold_3      0.421547\n",
       "val_error_fold_4      0.419466\n",
       "val_error_fold_5      0.419674\n",
       "Name: 1, dtype: object"
      ]
     },
     "metadata": {},
     "output_type": "display_data"
    },
    {
     "name": "stdout",
     "output_type": "stream",
     "text": [
      "The optimal learning rate was 0.01\n",
      "The optimal activation function to use in layer 1 was sigmoid\n"
     ]
    }
   ],
   "source": [
    "#get data for combination of hyperparameters that gave the lowest average binary cross entropy\n",
    "# across epochs and folds in the validation set\n",
    "display(tuning_results_df.loc[tuning_results_df['avg_val_error'].astype(float).idxmin()])\n",
    "best_lr = tuning_results_df.loc[tuning_results_df['avg_val_error'].astype(float).idxmin(),'lr']\n",
    "best_activation_layer1 = tuning_results_df.loc[tuning_results_df['avg_val_error'].astype(float).idxmin(),'activation_layer1']\n",
    "\n",
    "print(f\"The optimal learning rate was {best_lr}\")\n",
    "print(f\"The optimal activation function to use in layer 1 was {best_activation_layer1}\")\n"
   ]
  },
  {
   "cell_type": "markdown",
   "id": "a20592f8",
   "metadata": {},
   "source": [
    "#### Re-training model with optimal set of hyperparameters and plotting per-epoch train and test binary cross entropy\n",
    "\n",
    "* I chose learning rate and activation function hyperparameters by implementing a cross-validated grid search; the hyperparameters that minimized the average across-fold binary cross entropy on the test set were used moving forward. A subset of samples were completely held out from this procedure to be used for validation/testing here. \n",
    "* These results suggest the model was able to learn from the training data and properly generalize to the unseen  data, as the unseen validation loss decreased over the epochs"
   ]
  },
  {
   "cell_type": "code",
   "execution_count": 10,
   "id": "3f73075d",
   "metadata": {},
   "outputs": [
    {
     "data": {
      "image/png": "[encoded data removed]",
      "text/plain": [
       "<Figure size 576x576 with 2 Axes>"
      ]
     },
     "metadata": {
      "needs_background": "light"
     },
     "output_type": "display_data"
    }
   ],
   "source": [
    "nn = NeuralNetwork(nn_arch=[{'input_dim': 68, 'output_dim': 16, 'activation': activation_layer1},\n",
    "                           {'input_dim': 16, 'output_dim': 1, 'activation': 'sigmoid'}],\n",
    "                           lr=lr, batch_size=200, seed=42, epochs=10, loss_function=\n",
    "                           'cross_entropy') \n",
    "#X_train and y_train are the same observations that were used for cross validation grid search\n",
    "#X_test and y_test were completely held out of the grid search procedure\n",
    "per_epoch_train_loss, per_epoch_val_loss = nn.fit(X_train,y_train,\n",
    "                                               X_test,y_test)\n",
    "\n",
    "\n",
    "\n",
    "loss_hist = per_epoch_train_loss\n",
    "loss_hist_val = per_epoch_val_loss\n",
    "assert len(loss_hist) > 0, \"Need to run training before plotting loss history\"\n",
    "fig, axs = plt.subplots(2, figsize=(8,8))\n",
    "fig.suptitle('Loss History')\n",
    "axs[0].plot(np.arange(len(loss_hist)), loss_hist)\n",
    "axs[0].set_title('Training Loss')\n",
    "axs[1].plot(np.arange(len(loss_hist_val)), loss_hist_val)\n",
    "axs[1].set_title('Validation Loss')\n",
    "plt.xlabel('Epochs')\n",
    "axs[0].set_ylabel('Train Loss')\n",
    "axs[1].set_ylabel('Val Loss')\n",
    "fig.tight_layout()\n",
    "plt.show() "
   ]
  },
  {
   "cell_type": "markdown",
   "id": "b1f20238",
   "metadata": {},
   "source": [
    "### Accuracy of the Classifier on the entire dataset\n",
    "* Take trained model quantify binary cross entropy error and accuracy on the held out test dataset"
   ]
  },
  {
   "cell_type": "code",
   "execution_count": 49,
   "id": "7479d89a",
   "metadata": {},
   "outputs": [
    {
     "name": "stdout",
     "output_type": "stream",
     "text": [
      "Average binary cross entropy error across held out test data 0.6929905372270855\n"
     ]
    }
   ],
   "source": [
    "predictions = nn.predict(X_test)\n",
    "test_bce = nn._binary_cross_entropy(y_test,predictions)\n",
    "print(f\"Average binary cross entropy error across held out test data {test_bce}\")\n",
    "\n",
    "\n",
    "#to get accuracy, I need to convert binarize predictions, which are given as probabilities\n",
    "# I will binarize by calling every probability >= 0.5 as 1, and everything <0.5 0\n",
    "predictions[predictions>=0.5] = 1\n",
    "predictions[predictions<0.5] = 0\n",
    "predictions = predictions.astype(int)\n",
    "\n",
    "y_test = y_test.reshape(y_test.shape[0],1) #reshape to have compatible as predictions\n",
    "y_test = y_test.astype(int)\n",
    "\n",
    "test_accuracy = np.sum(predictions==y_test)/len(y_test)\n",
    "print(f\"Average binary cross entropy error across held out test data {test_bce}\")\n"
   ]
  },
  {
   "cell_type": "code",
   "execution_count": 50,
   "id": "a34840ce",
   "metadata": {},
   "outputs": [
    {
     "data": {
      "text/plain": [
       "array([[1],\n",
       "       [0],\n",
       "       [1],\n",
       "       ...,\n",
       "       [1],\n",
       "       [1],\n",
       "       [1]])"
      ]
     },
     "execution_count": 50,
     "metadata": {},
     "output_type": "execute_result"
    }
   ],
   "source": [
    "y_test.reshape(y_test.shape[0],1)"
   ]
  },
  {
   "cell_type": "code",
   "execution_count": 51,
   "id": "54e66fd6",
   "metadata": {},
   "outputs": [],
   "source": [
    "predictions[predictions>=0.5]=True"
   ]
  },
  {
   "cell_type": "code",
   "execution_count": 52,
   "id": "151540ef",
   "metadata": {},
   "outputs": [
    {
     "data": {
      "text/plain": [
       "array([[1],\n",
       "       [1],\n",
       "       [0],\n",
       "       ...,\n",
       "       [0],\n",
       "       [1],\n",
       "       [0]])"
      ]
     },
     "execution_count": 52,
     "metadata": {},
     "output_type": "execute_result"
    }
   ],
   "source": [
    "predictions"
   ]
  },
  {
   "cell_type": "code",
   "execution_count": 55,
   "id": "948737a2",
   "metadata": {},
   "outputs": [
    {
     "data": {
      "text/plain": [
       "0.48469983648680215"
      ]
     },
     "execution_count": 55,
     "metadata": {},
     "output_type": "execute_result"
    }
   ],
   "source": [
    "predictions = nn.predict(X_train)\n",
    "predictions[predictions>=0.5] = 1\n",
    "predictions[predictions<0.5] = 0\n",
    "predictions = predictions.astype(int)\n",
    "y_train = y_train.reshape(y_train.shape[0],1) #reshape to have compatible as predictions\n",
    "y_train = y_train.astype(int)\n",
    "\n",
    "np.sum(predictions==y_train)/len(y_train)"
   ]
  },
  {
   "cell_type": "code",
   "execution_count": null,
   "id": "5605dff7",
   "metadata": {},
   "outputs": [],
   "source": []
  }
 ],
 "metadata": {
  "kernelspec": {
   "display_name": "Python 3 (ipykernel)",
   "language": "python",
   "name": "python3"
  },
  "language_info": {
   "codemirror_mode": {
    "name": "ipython",
    "version": 3
   },
   "file_extension": ".py",
   "mimetype": "text/x-python",
   "name": "python",
   "nbconvert_exporter": "python",
   "pygments_lexer": "ipython3",
   "version": "3.9.7"
  }
 },
 "nbformat": 4,
 "nbformat_minor": 5
}
