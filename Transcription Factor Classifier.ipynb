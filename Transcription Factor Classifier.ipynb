{
 "cells": [
  {
   "cell_type": "code",
   "execution_count": 1,
   "id": "645dac0c",
   "metadata": {},
   "outputs": [],
   "source": [
    "import numpy as np\n",
    "from typing import List, Tuple\n",
    "from numpy.typing import ArrayLike\n",
    "from nn import NeuralNetwork, one_hot_encode_seqs, sample_seqs,read_text_file,read_fasta_file\n",
    "from sklearn import datasets\n",
    "from sklearn.model_selection import train_test_split,KFold\n",
    "import pandas as pd\n",
    "import matplotlib.pyplot as plt\n"
   ]
  },
  {
   "cell_type": "code",
   "execution_count": 2,
   "id": "5b8e7501",
   "metadata": {},
   "outputs": [],
   "source": [
    "rap1 = read_text_file(\"./data/rap1-lieb-positives.txt\")\n",
    "# yeast_neg = read_fasta_file(\"./data/yeast-upstream-1k-negative.fa\")\n",
    "rap_test = read_text_file(\"./data/rap1-lieb-test.txt\")"
   ]
  },
  {
   "cell_type": "code",
   "execution_count": 14,
   "id": "c682d09b",
   "metadata": {},
   "outputs": [
    {
     "data": {
      "text/plain": [
       "array([[1., 0., 0., 0., 0., 0., 0., 1., 1., 0., 0., 0.]])"
      ]
     },
     "execution_count": 14,
     "metadata": {},
     "output_type": "execute_result"
    }
   ],
   "source": [
    "np.stack(one_hot_encode_seqs(['AGA']),axis=0)"
   ]
  },
  {
   "cell_type": "markdown",
   "id": "4e8791ee",
   "metadata": {},
   "source": [
    "# Sampling Scheme: Upsampling\n",
    "* I chose to upsample the minority class to keep the dataset large enough to successfuly train a neural network, which needs a lot of data, while keeping the classes balanced. An alternative approach, like downsampling, would have kept 137 positive and 137 negative data points, which would have been a significant reduction in the sample size, possibly leading to a poorly trained model.\n",
    "* The upsampling procedure is implemented via sampling with replacement of the minority class, while keeping all members of the majority class. In this case, the positive positive Rap1 motifs will be resampled with replacement until there are an equal number of positive and negative motifs (3163 of each)"
   ]
  },
  {
   "cell_type": "code",
   "execution_count": 3,
   "id": "41524791",
   "metadata": {},
   "outputs": [],
   "source": [
    "np.random.seed(42)\n",
    "#concatenate positive and negative and create a list of labels\n",
    "seqs = rap1 + rap_test\n",
    "labels = [True] * len(rap1) + [False]*len(rap_test)\n",
    "\n",
    "X,y = sample_seqs(seqs,labels,random_state = 42)\n",
    "X_train, X_test, y_train, y_test = train_test_split(X, y, test_size=0.33, random_state=42)\n",
    "\n",
    "X_train = one_hot_encode_seqs(X_train)\n",
    "X_train = np.stack(X_train,axis=0) #convert list of np arrays back into a 2D array\n",
    "\n",
    "X_test = one_hot_encode_seqs(X_test)\n",
    "X_test = np.stack(X_test,axis = 0)"
   ]
  },
  {
   "cell_type": "markdown",
   "id": "69d867c6",
   "metadata": {},
   "source": [
    "### 5-fold CV Grid Search to find optimal learning rate and activation function hyperparameters\n"
   ]
  },
  {
   "cell_type": "code",
   "execution_count": 4,
   "id": "e26f961a",
   "metadata": {},
   "outputs": [],
   "source": [
    "columns = [\"lr\",\"activation_layer1\",\"avg_train_error\",\"avg_val_error\"] + [f\"train_error_fold_{x}\" for x in range(1,6)] \\\n",
    "         + [f\"val_error_fold_{x}\" for x in range(1,6)]            \n",
    "tuning_results_df = pd.DataFrame(columns = columns)\n",
    "lrs = [0.01,0.001,0.0001]\n",
    "activations = ['relu','sigmoid']                                              \n",
    "kf = KFold(n_splits=5)\n",
    "df_idx = 0\n",
    "for lr in lrs:\n",
    "    for activation_layer1 in activations:\n",
    "        fold_avg_train_losses = []\n",
    "        fold_avg_val_losses = []\n",
    "        for fold_idx, (train,val) in enumerate(kf.split(X_train,y_train)):\n",
    "            fold_idx = fold_idx + 1\n",
    "            nn = NeuralNetwork(nn_arch=[{'input_dim': 68, 'output_dim': 16, 'activation': activation_layer1},\n",
    "                           {'input_dim': 16, 'output_dim': 1, 'activation': 'sigmoid'}],\n",
    "                           lr=lr, batch_size=1, seed=42, epochs=5, loss_function=\n",
    "                           'cross_entropy') \n",
    "            #fit this fold. test data is still held out\n",
    "            train_loss, val_loss = nn.fit(X_train[train],y_train[train],\n",
    "                                           X_train[val],y_train[val])\n",
    "            fold_avg_train_loss = np.mean(train_loss) #avg (across epochs) training loss for this fold\n",
    "            fold_avg_train_losses.append(fold_avg_train_loss)\n",
    "\n",
    "            fold_avg_val_loss = np.mean(val_loss) #avg (across epochs) validation loss for this fold\n",
    "            fold_avg_val_losses.append(fold_avg_val_loss)\n",
    "\n",
    "\n",
    "            #store hyperparameters and per-fold results\n",
    "            tuning_results_df.loc[df_idx,\"lr\"] = lr\n",
    "            tuning_results_df.loc[df_idx,\"activation_layer1\"] = activation_layer1\n",
    "            tuning_results_df.loc[df_idx,f\"train_error_fold_{fold_idx}\"] = fold_avg_train_loss\n",
    "            tuning_results_df.loc[df_idx,f\"val_error_fold_{fold_idx}\"] = fold_avg_val_loss\n",
    "\n",
    "        #store average train and val loss across all folds for this combination of hyperparameters\n",
    "        tuning_results_df.loc[df_idx,\"avg_train_error\"] = np.mean(fold_avg_train_losses)\n",
    "        tuning_results_df.loc[df_idx,\"avg_val_error\"] = np.mean(fold_avg_val_losses)\n",
    "\n",
    "        df_idx +=1"
   ]
  },
  {
   "cell_type": "code",
   "execution_count": 5,
   "id": "3c944869",
   "metadata": {},
   "outputs": [
    {
     "data": {
      "text/html": [
       "<div>\n",
       "<style scoped>\n",
       "    .dataframe tbody tr th:only-of-type {\n",
       "        vertical-align: middle;\n",
       "    }\n",
       "\n",
       "    .dataframe tbody tr th {\n",
       "        vertical-align: top;\n",
       "    }\n",
       "\n",
       "    .dataframe thead th {\n",
       "        text-align: right;\n",
       "    }\n",
       "</style>\n",
       "<table border=\"1\" class=\"dataframe\">\n",
       "  <thead>\n",
       "    <tr style=\"text-align: right;\">\n",
       "      <th></th>\n",
       "      <th>lr</th>\n",
       "      <th>activation_layer1</th>\n",
       "      <th>avg_train_error</th>\n",
       "      <th>avg_val_error</th>\n",
       "      <th>train_error_fold_1</th>\n",
       "      <th>train_error_fold_2</th>\n",
       "      <th>train_error_fold_3</th>\n",
       "      <th>train_error_fold_4</th>\n",
       "      <th>train_error_fold_5</th>\n",
       "      <th>val_error_fold_1</th>\n",
       "      <th>val_error_fold_2</th>\n",
       "      <th>val_error_fold_3</th>\n",
       "      <th>val_error_fold_4</th>\n",
       "      <th>val_error_fold_5</th>\n",
       "    </tr>\n",
       "  </thead>\n",
       "  <tbody>\n",
       "    <tr>\n",
       "      <th>0</th>\n",
       "      <td>0.01</td>\n",
       "      <td>relu</td>\n",
       "      <td>0.280917</td>\n",
       "      <td>0.285548</td>\n",
       "      <td>0.270688</td>\n",
       "      <td>0.282068</td>\n",
       "      <td>0.28026</td>\n",
       "      <td>0.284891</td>\n",
       "      <td>0.286679</td>\n",
       "      <td>0.320527</td>\n",
       "      <td>0.278064</td>\n",
       "      <td>0.287122</td>\n",
       "      <td>0.271489</td>\n",
       "      <td>0.27054</td>\n",
       "    </tr>\n",
       "    <tr>\n",
       "      <th>1</th>\n",
       "      <td>0.01</td>\n",
       "      <td>sigmoid</td>\n",
       "      <td>0.441083</td>\n",
       "      <td>0.444449</td>\n",
       "      <td>0.434691</td>\n",
       "      <td>0.441555</td>\n",
       "      <td>0.441875</td>\n",
       "      <td>0.443361</td>\n",
       "      <td>0.443931</td>\n",
       "      <td>0.457451</td>\n",
       "      <td>0.444072</td>\n",
       "      <td>0.439975</td>\n",
       "      <td>0.440672</td>\n",
       "      <td>0.440074</td>\n",
       "    </tr>\n",
       "    <tr>\n",
       "      <th>2</th>\n",
       "      <td>0.001</td>\n",
       "      <td>relu</td>\n",
       "      <td>0.600391</td>\n",
       "      <td>0.601669</td>\n",
       "      <td>0.594141</td>\n",
       "      <td>0.601866</td>\n",
       "      <td>0.599978</td>\n",
       "      <td>0.603267</td>\n",
       "      <td>0.602703</td>\n",
       "      <td>0.607028</td>\n",
       "      <td>0.60243</td>\n",
       "      <td>0.599496</td>\n",
       "      <td>0.59858</td>\n",
       "      <td>0.600809</td>\n",
       "    </tr>\n",
       "    <tr>\n",
       "      <th>3</th>\n",
       "      <td>0.001</td>\n",
       "      <td>sigmoid</td>\n",
       "      <td>0.69034</td>\n",
       "      <td>0.690329</td>\n",
       "      <td>0.690065</td>\n",
       "      <td>0.690244</td>\n",
       "      <td>0.690148</td>\n",
       "      <td>0.690623</td>\n",
       "      <td>0.69062</td>\n",
       "      <td>0.690454</td>\n",
       "      <td>0.690561</td>\n",
       "      <td>0.69067</td>\n",
       "      <td>0.689742</td>\n",
       "      <td>0.690219</td>\n",
       "    </tr>\n",
       "    <tr>\n",
       "      <th>4</th>\n",
       "      <td>0.0001</td>\n",
       "      <td>relu</td>\n",
       "      <td>0.701165</td>\n",
       "      <td>0.701232</td>\n",
       "      <td>0.700776</td>\n",
       "      <td>0.701046</td>\n",
       "      <td>0.701458</td>\n",
       "      <td>0.701599</td>\n",
       "      <td>0.700946</td>\n",
       "      <td>0.702601</td>\n",
       "      <td>0.702182</td>\n",
       "      <td>0.699004</td>\n",
       "      <td>0.699368</td>\n",
       "      <td>0.703007</td>\n",
       "    </tr>\n",
       "    <tr>\n",
       "      <th>5</th>\n",
       "      <td>0.0001</td>\n",
       "      <td>sigmoid</td>\n",
       "      <td>0.701553</td>\n",
       "      <td>0.701589</td>\n",
       "      <td>0.7015</td>\n",
       "      <td>0.701408</td>\n",
       "      <td>0.701818</td>\n",
       "      <td>0.70173</td>\n",
       "      <td>0.70131</td>\n",
       "      <td>0.702074</td>\n",
       "      <td>0.702665</td>\n",
       "      <td>0.698771</td>\n",
       "      <td>0.700589</td>\n",
       "      <td>0.703844</td>\n",
       "    </tr>\n",
       "  </tbody>\n",
       "</table>\n",
       "</div>"
      ],
      "text/plain": [
       "       lr activation_layer1 avg_train_error avg_val_error train_error_fold_1  \\\n",
       "0    0.01              relu        0.280917      0.285548           0.270688   \n",
       "1    0.01           sigmoid        0.441083      0.444449           0.434691   \n",
       "2   0.001              relu        0.600391      0.601669           0.594141   \n",
       "3   0.001           sigmoid         0.69034      0.690329           0.690065   \n",
       "4  0.0001              relu        0.701165      0.701232           0.700776   \n",
       "5  0.0001           sigmoid        0.701553      0.701589             0.7015   \n",
       "\n",
       "  train_error_fold_2 train_error_fold_3 train_error_fold_4 train_error_fold_5  \\\n",
       "0           0.282068            0.28026           0.284891           0.286679   \n",
       "1           0.441555           0.441875           0.443361           0.443931   \n",
       "2           0.601866           0.599978           0.603267           0.602703   \n",
       "3           0.690244           0.690148           0.690623            0.69062   \n",
       "4           0.701046           0.701458           0.701599           0.700946   \n",
       "5           0.701408           0.701818            0.70173            0.70131   \n",
       "\n",
       "  val_error_fold_1 val_error_fold_2 val_error_fold_3 val_error_fold_4  \\\n",
       "0         0.320527         0.278064         0.287122         0.271489   \n",
       "1         0.457451         0.444072         0.439975         0.440672   \n",
       "2         0.607028          0.60243         0.599496          0.59858   \n",
       "3         0.690454         0.690561          0.69067         0.689742   \n",
       "4         0.702601         0.702182         0.699004         0.699368   \n",
       "5         0.702074         0.702665         0.698771         0.700589   \n",
       "\n",
       "  val_error_fold_5  \n",
       "0          0.27054  \n",
       "1         0.440074  \n",
       "2         0.600809  \n",
       "3         0.690219  \n",
       "4         0.703007  \n",
       "5         0.703844  "
      ]
     },
     "metadata": {},
     "output_type": "display_data"
    }
   ],
   "source": [
    "#resulting dataframe stores error from each fold with each combination of hyperparameters\n",
    "#as well as the average error across all 5 folds with each combnation of hyperparameters\n",
    "display(tuning_results_df)"
   ]
  },
  {
   "cell_type": "code",
   "execution_count": 6,
   "id": "7b6c0d9b",
   "metadata": {},
   "outputs": [
    {
     "data": {
      "text/plain": [
       "lr                        0.01\n",
       "activation_layer1         relu\n",
       "avg_train_error       0.280917\n",
       "avg_val_error         0.285548\n",
       "train_error_fold_1    0.270688\n",
       "train_error_fold_2    0.282068\n",
       "train_error_fold_3     0.28026\n",
       "train_error_fold_4    0.284891\n",
       "train_error_fold_5    0.286679\n",
       "val_error_fold_1      0.320527\n",
       "val_error_fold_2      0.278064\n",
       "val_error_fold_3      0.287122\n",
       "val_error_fold_4      0.271489\n",
       "val_error_fold_5       0.27054\n",
       "Name: 0, dtype: object"
      ]
     },
     "metadata": {},
     "output_type": "display_data"
    },
    {
     "name": "stdout",
     "output_type": "stream",
     "text": [
      "The optimal learning rate was 0.01\n",
      "The optimal activation function to use in layer 1 was relu\n"
     ]
    }
   ],
   "source": [
    "#get data for combination of hyperparameters that gave the lowest average binary cross entropy\n",
    "# across epochs and folds in the validation set\n",
    "display(tuning_results_df.loc[tuning_results_df['avg_val_error'].astype(float).idxmin()])\n",
    "best_lr = tuning_results_df.loc[tuning_results_df['avg_val_error'].astype(float).idxmin(),'lr']\n",
    "best_activation_layer1 = tuning_results_df.loc[tuning_results_df['avg_val_error'].astype(float).idxmin(),'activation_layer1']\n",
    "\n",
    "print(f\"The optimal learning rate was {best_lr}\")\n",
    "print(f\"The optimal activation function to use in layer 1 was {best_activation_layer1}\")\n"
   ]
  },
  {
   "cell_type": "markdown",
   "id": "0cb83d73",
   "metadata": {},
   "source": [
    "#### Re-training model with optimal set of hyperparameters and plotting per-epoch train and test binary cross entropy\n",
    "\n",
    "* I chose learning rate and activation function hyperparameters by implementing a cross-validated grid search; the hyperparameters that minimized the average across-fold binary cross entropy on the test set were used moving forward. A subset of samples were completely held out from this procedure to be used for validation/testing here. \n",
    "* These results suggest the model was able to learn from the training data and properly generalize to the unseen  data, as the unseen validation loss decreased over the epochs"
   ]
  },
  {
   "cell_type": "code",
   "execution_count": 7,
   "id": "dd08b9f0",
   "metadata": {},
   "outputs": [
    {
     "data": {
      "image/png": "[encoded data removed]",
      "text/plain": [
       "<Figure size 576x576 with 2 Axes>"
      ]
     },
     "metadata": {
      "needs_background": "light"
     },
     "output_type": "display_data"
    }
   ],
   "source": [
    "nn = NeuralNetwork(nn_arch=[{'input_dim': 68, 'output_dim': 16, 'activation': activation_layer1},\n",
    "                           {'input_dim': 16, 'output_dim': 1, 'activation': 'sigmoid'}],\n",
    "                           lr=lr, batch_size=200, seed=42, epochs=10, loss_function=\n",
    "                           'cross_entropy') \n",
    "#X_train and y_train are the same observations that were used for cross validation grid search\n",
    "#X_test and y_test were completely held out of the grid search procedure\n",
    "per_epoch_train_loss, per_epoch_val_loss = nn.fit(X_train,y_train,\n",
    "                                               X_test,y_test)\n",
    "\n",
    "\n",
    "\n",
    "loss_hist = per_epoch_train_loss\n",
    "loss_hist_val = per_epoch_val_loss\n",
    "assert len(loss_hist) > 0, \"Need to run training before plotting loss history\"\n",
    "fig, axs = plt.subplots(2, figsize=(8,8))\n",
    "fig.suptitle('Loss History')\n",
    "axs[0].plot(np.arange(len(loss_hist)), loss_hist)\n",
    "axs[0].set_title('Training Loss')\n",
    "axs[1].plot(np.arange(len(loss_hist_val)), loss_hist_val)\n",
    "axs[1].set_title('Validation Loss')\n",
    "plt.xlabel('Epochs')\n",
    "axs[0].set_ylabel('Train Loss')\n",
    "axs[1].set_ylabel('Val Loss')\n",
    "fig.tight_layout()\n",
    "plt.show() "
   ]
  },
  {
   "cell_type": "markdown",
   "id": "3bdddf05",
   "metadata": {},
   "source": [
    "### Accuracy of the Classifier on the entire dataset\n",
    "* Take trained model quantify binary cross entropy error and accuracy on the held out test dataset"
   ]
  },
  {
   "cell_type": "code",
   "execution_count": 8,
   "id": "d98032ff",
   "metadata": {},
   "outputs": [
    {
     "name": "stdout",
     "output_type": "stream",
     "text": [
      "Average binary cross entropy error across held out test data 0.6933254854237872\n",
      "Test Accuracy: 0.47652916073968704\n"
     ]
    }
   ],
   "source": [
    "predictions = nn.predict(X_test)\n",
    "test_bce = nn._binary_cross_entropy(y_test,predictions)\n",
    "print(f\"Average binary cross entropy error across held out test data {test_bce}\")\n",
    "\n",
    "#ROC curve\n",
    "from sklearn.metrics import roc_curve\n",
    "fpr,tpr,_ = roc_curve(y_test.reshape(y_test.shape[0],1).astype(int),\n",
    "         predictions)\n",
    "\n",
    "#to get accuracy, I need to convert binarize predictions, which are given as probabilities\n",
    "# I will binarize by calling every probability >= 0.5 as 1, and everything <0.5 0\n",
    "predictions[predictions>=0.5] = 1\n",
    "predictions[predictions<0.5] = 0\n",
    "predictions = predictions.astype(int)\n",
    "\n",
    "y_test = y_test.reshape(y_test.shape[0],1) #reshape to have compatible as predictions\n",
    "y_test = y_test.astype(int)\n",
    "\n",
    "test_accuracy = np.sum(predictions==y_test)/len(y_test)\n",
    "print(f\"Test Accuracy: {test_accuracy}\")\n"
   ]
  },
  {
   "cell_type": "code",
   "execution_count": 9,
   "id": "58f89b39",
   "metadata": {},
   "outputs": [
    {
     "name": "stderr",
     "output_type": "stream",
     "text": [
      "No handles with labels found to put in legend.\n"
     ]
    },
    {
     "data": {
      "image/png": "[encoded data removed]",
      "text/plain": [
       "<Figure size 432x288 with 1 Axes>"
      ]
     },
     "metadata": {
      "needs_background": "light"
     },
     "output_type": "display_data"
    }
   ],
   "source": [
    "plt.figure()\n",
    "lw = 2\n",
    "plt.plot(\n",
    "    fpr,\n",
    "    tpr,\n",
    "    color=\"darkorange\",\n",
    "    lw=lw\n",
    ")\n",
    "plt.plot([0, 1], [0, 1], color=\"navy\", lw=lw, linestyle=\"--\")\n",
    "plt.xlim([0.0, 1.0])\n",
    "plt.ylim([0.0, 1.05])\n",
    "plt.xlabel(\"False Positive Rate\")\n",
    "plt.ylabel(\"True Positive Rate\")\n",
    "plt.title(\"Receiver operating characteristic example\")\n",
    "plt.legend(loc=\"lower right\")\n",
    "plt.show()"
   ]
  },
  {
   "cell_type": "code",
   "execution_count": 10,
   "id": "c63423ea",
   "metadata": {},
   "outputs": [],
   "source": [
    "predictions[predictions>=0.5]=True"
   ]
  },
  {
   "cell_type": "code",
   "execution_count": 11,
   "id": "5ffd22b4",
   "metadata": {},
   "outputs": [
    {
     "data": {
      "text/plain": [
       "array([[1],\n",
       "       [1],\n",
       "       [0],\n",
       "       ...,\n",
       "       [0],\n",
       "       [1],\n",
       "       [0]])"
      ]
     },
     "execution_count": 11,
     "metadata": {},
     "output_type": "execute_result"
    }
   ],
   "source": [
    "predictions"
   ]
  },
  {
   "cell_type": "code",
   "execution_count": 12,
   "id": "b47f0e59",
   "metadata": {},
   "outputs": [
    {
     "data": {
      "text/plain": [
       "0.48469983648680215"
      ]
     },
     "execution_count": 12,
     "metadata": {},
     "output_type": "execute_result"
    }
   ],
   "source": [
    "predictions = nn.predict(X_train)\n",
    "predictions[predictions>=0.5] = 1\n",
    "predictions[predictions<0.5] = 0\n",
    "predictions = predictions.astype(int)\n",
    "y_train = y_train.reshape(y_train.shape[0],1) #reshape to have compatible as predictions\n",
    "y_train = y_train.astype(int)\n",
    "\n",
    "np.sum(predictions==y_train)/len(y_train)"
   ]
  },
  {
   "cell_type": "code",
   "execution_count": null,
   "id": "643bc4c3",
   "metadata": {},
   "outputs": [],
   "source": []
  }
 ],
 "metadata": {
  "kernelspec": {
   "display_name": "Python 3 (ipykernel)",
   "language": "python",
   "name": "python3"
  },
  "language_info": {
   "codemirror_mode": {
    "name": "ipython",
    "version": 3
   },
   "file_extension": ".py",
   "mimetype": "text/x-python",
   "name": "python",
   "nbconvert_exporter": "python",
   "pygments_lexer": "ipython3",
   "version": "3.9.7"
  }
 },
 "nbformat": 4,
 "nbformat_minor": 5
}
