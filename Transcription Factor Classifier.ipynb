{
 "cells": [
  {
   "cell_type": "code",
   "execution_count": 1,
   "id": "630048e3",
   "metadata": {},
   "outputs": [],
   "source": [
    "import numpy as np\n",
    "from typing import List, Tuple\n",
    "from numpy.typing import ArrayLike\n",
    "from nn import NeuralNetwork, one_hot_encode_seqs, sample_seqs,read_text_file,read_fasta_file, clip_sample_seqs\n",
    "from sklearn import datasets\n",
    "from sklearn.model_selection import train_test_split,KFold\n",
    "import pandas as pd\n",
    "import matplotlib.pyplot as plt"
   ]
  },
  {
   "cell_type": "code",
   "execution_count": 2,
   "id": "7f412b34",
   "metadata": {},
   "outputs": [],
   "source": [
    "rap1 = read_text_file(\"./data/rap1-lieb-positives.txt\")\n",
    "yeast_neg = read_fasta_file(\"./data/yeast-upstream-1k-negative.fa\")"
   ]
  },
  {
   "cell_type": "markdown",
   "id": "ba918a5b",
   "metadata": {},
   "source": [
    "# Sampling Scheme: Upsampling\n",
    "* I chose to upsample the minority class to keep the dataset large enough to successfuly train a neural network, which needs a lot of data, while keeping the classes balanced. An alternative approach, like downsampling, would have kept 137 positive and 137 negative data points, which would have been a significant reduction in the sample size, possibly leading to a poorly trained model.\n",
    "* The upsampling procedure is implemented via sampling with replacement of the minority class, while keeping all members of the majority class. In this case, the positive positive Rap1 motifs will be resampled with replacement until there are an equal number of positive and negative motifs (3163 of each)\n",
    "* However, because the yeast negative sequences are much longer than the positive rap1 motifs, the dimensions of the two datasets are different. Therefore, I implemented clip_sample_seqs() to take the longer yeast negative sequences and clip/chunk each of them to produce multiple sequences of the same length as the rap1 motifs. Therefore, the 3163 yeast negative motifs ended up turning into far more smaller sequences that are the same length as the rap1 positive motifs. Upsampling therefore led to 366594 total sequences, with an equal 183297 in each class.\n",
    "* The resulting clipped yeast negative sequences and upsamples rap1 positive sequences were one hot encoded and used to train the classifier."
   ]
  },
  {
   "cell_type": "code",
   "execution_count": 3,
   "id": "d051bf97",
   "metadata": {},
   "outputs": [],
   "source": [
    "np.random.seed(42)\n",
    "pos,neg = clip_sample_seqs(rap1,yeast_neg)\n",
    "#concatenate positive and negative and create a list of labels\n",
    "seqs = pos + neg\n",
    "labels = [True] * len(pos) + [False]*len(neg)\n",
    "\n",
    "X,y = sample_seqs(seqs,labels,random_state = 42)\n",
    "X_train, X_test, y_train, y_test = train_test_split(X, y, test_size=0.1, random_state=42)\n",
    "\n",
    "X_train = one_hot_encode_seqs(X_train)\n",
    "X_train = np.stack(X_train,axis=0) #convert list of np arrays back into a 2D array\n",
    "\n",
    "X_test = one_hot_encode_seqs(X_test)\n",
    "X_test = np.stack(X_test,axis = 0)"
   ]
  },
  {
   "cell_type": "markdown",
   "id": "6d9d7bff",
   "metadata": {},
   "source": [
    "### 5-fold CV Grid Search to find optimal learning rate and activation function hyperparameters\n"
   ]
  },
  {
   "cell_type": "code",
   "execution_count": 4,
   "id": "716ca47e",
   "metadata": {},
   "outputs": [
    {
     "name": "stderr",
     "output_type": "stream",
     "text": [
      "/Users/shirondrusinsky/Documents/GitHub/project7/nn/nn.py:374: RuntimeWarning: overflow encountered in exp\n",
      "  return 1/(1+np.exp(-Z))\n"
     ]
    }
   ],
   "source": [
    "columns = [\"lr\",\"activation_layer1\",\"avg_train_error\",\"avg_val_error\"] + [f\"train_error_fold_{x}\" for x in range(1,6)] \\\n",
    "         + [f\"val_error_fold_{x}\" for x in range(1,6)]            \n",
    "tuning_results_df = pd.DataFrame(columns = columns)\n",
    "lrs = [0.01,0.001,0.0001]\n",
    "activations = ['relu','sigmoid']                                              \n",
    "kf = KFold(n_splits=5)\n",
    "df_idx = 0\n",
    "for lr in lrs:\n",
    "    for activation_layer1 in activations:\n",
    "        fold_avg_train_losses = []\n",
    "        fold_avg_val_losses = []\n",
    "        for fold_idx, (train,val) in enumerate(kf.split(X_train,y_train)):\n",
    "            fold_idx = fold_idx + 1\n",
    "            nn = NeuralNetwork(nn_arch=[{'input_dim': 68, 'output_dim': 16, 'activation': activation_layer1},\n",
    "                           {'input_dim': 16, 'output_dim': 1, 'activation': 'sigmoid'}],\n",
    "                           lr=lr, batch_size=10000, seed=42, epochs=20, loss_function=\n",
    "                           'cross_entropy') \n",
    "            #fit this fold. test data is still held out\n",
    "            train_loss, val_loss = nn.fit(X_train[train],y_train[train],\n",
    "                                           X_train[val],y_train[val])\n",
    "            fold_avg_train_loss = np.mean(train_loss) #avg (across epochs) training loss for this fold\n",
    "            fold_avg_train_losses.append(fold_avg_train_loss)\n",
    "\n",
    "            fold_avg_val_loss = np.mean(val_loss) #avg (across epochs) validation loss for this fold\n",
    "            fold_avg_val_losses.append(fold_avg_val_loss)\n",
    "\n",
    "\n",
    "            #store hyperparameters and per-fold results\n",
    "            tuning_results_df.loc[df_idx,\"lr\"] = lr\n",
    "            tuning_results_df.loc[df_idx,\"activation_layer1\"] = activation_layer1\n",
    "            tuning_results_df.loc[df_idx,f\"train_error_fold_{fold_idx}\"] = fold_avg_train_loss\n",
    "            tuning_results_df.loc[df_idx,f\"val_error_fold_{fold_idx}\"] = fold_avg_val_loss\n",
    "\n",
    "        #store average train and val loss across all folds for this combination of hyperparameters\n",
    "        tuning_results_df.loc[df_idx,\"avg_train_error\"] = np.mean(fold_avg_train_losses)\n",
    "        tuning_results_df.loc[df_idx,\"avg_val_error\"] = np.mean(fold_avg_val_losses)\n",
    "\n",
    "        df_idx +=1"
   ]
  },
  {
   "cell_type": "code",
   "execution_count": 5,
   "id": "e1360780",
   "metadata": {},
   "outputs": [
    {
     "data": {
      "text/html": [
       "<div>\n",
       "<style scoped>\n",
       "    .dataframe tbody tr th:only-of-type {\n",
       "        vertical-align: middle;\n",
       "    }\n",
       "\n",
       "    .dataframe tbody tr th {\n",
       "        vertical-align: top;\n",
       "    }\n",
       "\n",
       "    .dataframe thead th {\n",
       "        text-align: right;\n",
       "    }\n",
       "</style>\n",
       "<table border=\"1\" class=\"dataframe\">\n",
       "  <thead>\n",
       "    <tr style=\"text-align: right;\">\n",
       "      <th></th>\n",
       "      <th>lr</th>\n",
       "      <th>activation_layer1</th>\n",
       "      <th>avg_train_error</th>\n",
       "      <th>avg_val_error</th>\n",
       "      <th>train_error_fold_1</th>\n",
       "      <th>train_error_fold_2</th>\n",
       "      <th>train_error_fold_3</th>\n",
       "      <th>train_error_fold_4</th>\n",
       "      <th>train_error_fold_5</th>\n",
       "      <th>val_error_fold_1</th>\n",
       "      <th>val_error_fold_2</th>\n",
       "      <th>val_error_fold_3</th>\n",
       "      <th>val_error_fold_4</th>\n",
       "      <th>val_error_fold_5</th>\n",
       "    </tr>\n",
       "  </thead>\n",
       "  <tbody>\n",
       "    <tr>\n",
       "      <th>0</th>\n",
       "      <td>0.01</td>\n",
       "      <td>relu</td>\n",
       "      <td>8.077032</td>\n",
       "      <td>8.091007</td>\n",
       "      <td>8.072329</td>\n",
       "      <td>8.091333</td>\n",
       "      <td>8.068603</td>\n",
       "      <td>8.070403</td>\n",
       "      <td>8.082492</td>\n",
       "      <td>8.119866</td>\n",
       "      <td>8.086454</td>\n",
       "      <td>8.095683</td>\n",
       "      <td>8.097568</td>\n",
       "      <td>8.055463</td>\n",
       "    </tr>\n",
       "    <tr>\n",
       "      <th>1</th>\n",
       "      <td>0.01</td>\n",
       "      <td>sigmoid</td>\n",
       "      <td>8.09472</td>\n",
       "      <td>8.108544</td>\n",
       "      <td>8.089832</td>\n",
       "      <td>8.10139</td>\n",
       "      <td>8.090546</td>\n",
       "      <td>8.090429</td>\n",
       "      <td>8.101402</td>\n",
       "      <td>8.136999</td>\n",
       "      <td>8.096355</td>\n",
       "      <td>8.117503</td>\n",
       "      <td>8.117547</td>\n",
       "      <td>8.074319</td>\n",
       "    </tr>\n",
       "    <tr>\n",
       "      <th>2</th>\n",
       "      <td>0.001</td>\n",
       "      <td>relu</td>\n",
       "      <td>2.064486</td>\n",
       "      <td>2.066429</td>\n",
       "      <td>0.374077</td>\n",
       "      <td>8.320583</td>\n",
       "      <td>0.531658</td>\n",
       "      <td>0.541534</td>\n",
       "      <td>0.554577</td>\n",
       "      <td>0.374906</td>\n",
       "      <td>8.319616</td>\n",
       "      <td>0.536058</td>\n",
       "      <td>0.541484</td>\n",
       "      <td>0.560084</td>\n",
       "    </tr>\n",
       "    <tr>\n",
       "      <th>3</th>\n",
       "      <td>0.001</td>\n",
       "      <td>sigmoid</td>\n",
       "      <td>1.075321</td>\n",
       "      <td>1.076088</td>\n",
       "      <td>1.073555</td>\n",
       "      <td>1.076047</td>\n",
       "      <td>1.075567</td>\n",
       "      <td>1.075815</td>\n",
       "      <td>1.075621</td>\n",
       "      <td>1.074864</td>\n",
       "      <td>1.076622</td>\n",
       "      <td>1.076268</td>\n",
       "      <td>1.07644</td>\n",
       "      <td>1.076246</td>\n",
       "    </tr>\n",
       "    <tr>\n",
       "      <th>4</th>\n",
       "      <td>0.0001</td>\n",
       "      <td>relu</td>\n",
       "      <td>0.011881</td>\n",
       "      <td>0.010572</td>\n",
       "      <td>0.011877</td>\n",
       "      <td>0.01191</td>\n",
       "      <td>0.011959</td>\n",
       "      <td>0.011836</td>\n",
       "      <td>0.011821</td>\n",
       "      <td>0.010691</td>\n",
       "      <td>0.010573</td>\n",
       "      <td>0.010259</td>\n",
       "      <td>0.010619</td>\n",
       "      <td>0.01072</td>\n",
       "    </tr>\n",
       "    <tr>\n",
       "      <th>5</th>\n",
       "      <td>0.0001</td>\n",
       "      <td>sigmoid</td>\n",
       "      <td>0.039006</td>\n",
       "      <td>0.037656</td>\n",
       "      <td>0.038969</td>\n",
       "      <td>0.038993</td>\n",
       "      <td>0.039086</td>\n",
       "      <td>0.038976</td>\n",
       "      <td>0.039004</td>\n",
       "      <td>0.037885</td>\n",
       "      <td>0.037808</td>\n",
       "      <td>0.037349</td>\n",
       "      <td>0.037656</td>\n",
       "      <td>0.03758</td>\n",
       "    </tr>\n",
       "  </tbody>\n",
       "</table>\n",
       "</div>"
      ],
      "text/plain": [
       "       lr activation_layer1 avg_train_error avg_val_error train_error_fold_1  \\\n",
       "0    0.01              relu        8.077032      8.091007           8.072329   \n",
       "1    0.01           sigmoid         8.09472      8.108544           8.089832   \n",
       "2   0.001              relu        2.064486      2.066429           0.374077   \n",
       "3   0.001           sigmoid        1.075321      1.076088           1.073555   \n",
       "4  0.0001              relu        0.011881      0.010572           0.011877   \n",
       "5  0.0001           sigmoid        0.039006      0.037656           0.038969   \n",
       "\n",
       "  train_error_fold_2 train_error_fold_3 train_error_fold_4 train_error_fold_5  \\\n",
       "0           8.091333           8.068603           8.070403           8.082492   \n",
       "1            8.10139           8.090546           8.090429           8.101402   \n",
       "2           8.320583           0.531658           0.541534           0.554577   \n",
       "3           1.076047           1.075567           1.075815           1.075621   \n",
       "4            0.01191           0.011959           0.011836           0.011821   \n",
       "5           0.038993           0.039086           0.038976           0.039004   \n",
       "\n",
       "  val_error_fold_1 val_error_fold_2 val_error_fold_3 val_error_fold_4  \\\n",
       "0         8.119866         8.086454         8.095683         8.097568   \n",
       "1         8.136999         8.096355         8.117503         8.117547   \n",
       "2         0.374906         8.319616         0.536058         0.541484   \n",
       "3         1.074864         1.076622         1.076268          1.07644   \n",
       "4         0.010691         0.010573         0.010259         0.010619   \n",
       "5         0.037885         0.037808         0.037349         0.037656   \n",
       "\n",
       "  val_error_fold_5  \n",
       "0         8.055463  \n",
       "1         8.074319  \n",
       "2         0.560084  \n",
       "3         1.076246  \n",
       "4          0.01072  \n",
       "5          0.03758  "
      ]
     },
     "metadata": {},
     "output_type": "display_data"
    }
   ],
   "source": [
    "#resulting dataframe stores error from each fold with each combination of hyperparameters\n",
    "#as well as the average error across all 5 folds with each combnation of hyperparameters\n",
    "display(tuning_results_df)"
   ]
  },
  {
   "cell_type": "code",
   "execution_count": 6,
   "id": "9759dbdc",
   "metadata": {},
   "outputs": [
    {
     "data": {
      "text/plain": [
       "lr                      0.0001\n",
       "activation_layer1         relu\n",
       "avg_train_error       0.011881\n",
       "avg_val_error         0.010572\n",
       "train_error_fold_1    0.011877\n",
       "train_error_fold_2     0.01191\n",
       "train_error_fold_3    0.011959\n",
       "train_error_fold_4    0.011836\n",
       "train_error_fold_5    0.011821\n",
       "val_error_fold_1      0.010691\n",
       "val_error_fold_2      0.010573\n",
       "val_error_fold_3      0.010259\n",
       "val_error_fold_4      0.010619\n",
       "val_error_fold_5       0.01072\n",
       "Name: 4, dtype: object"
      ]
     },
     "metadata": {},
     "output_type": "display_data"
    },
    {
     "name": "stdout",
     "output_type": "stream",
     "text": [
      "The optimal learning rate was 0.0001\n",
      "The optimal activation function to use in layer 1 was relu\n"
     ]
    }
   ],
   "source": [
    "#get data for combination of hyperparameters that gave the lowest average binary cross entropy\n",
    "# across epochs and folds in the validation set\n",
    "display(tuning_results_df.loc[tuning_results_df['avg_val_error'].astype(float).idxmin()])\n",
    "best_lr = tuning_results_df.loc[tuning_results_df['avg_val_error'].astype(float).idxmin(),'lr']\n",
    "best_activation_layer1 = tuning_results_df.loc[tuning_results_df['avg_val_error'].astype(float).idxmin(),'activation_layer1']\n",
    "\n",
    "print(f\"The optimal learning rate was {best_lr}\")\n",
    "print(f\"The optimal activation function to use in layer 1 was {best_activation_layer1}\")\n"
   ]
  },
  {
   "cell_type": "markdown",
   "id": "c3d1be71",
   "metadata": {},
   "source": [
    "### Re-training model with optimal set of hyperparameters and plotting per-epoch train and test binary cross entropy\n",
    "\n",
    "* I chose learning rate and activation function hyperparameters by implementing a cross-validated grid search; the hyperparameters that minimized the average across-fold binary cross entropy were used moving forward. A subset of samples were completely held out from this procedure to be used for validation/testing later in this notebook. \n",
    "* These results suggest the model was able to learn from the training data and properly generalize to the unseen  data, as the unseen validation loss decreased over the epochs\n",
    "\n",
    "\n",
    "### Why I chose Binary Cross Entropy as my loss function\n",
    "* Binary cross entropy was chosen as the loss function because this loss is minimized with correct binary classifications -- when a member of the 1 class is properly classified as a 1 or when a member of the 0 class is properly classified as a 0. Therefore, the goal of backpropagation is to minimize this loss. Using a different loss function, like mean squared error would be inappropriate because this loss is more appropriate for regression-like tasks rather than classification."
   ]
  },
  {
   "cell_type": "code",
   "execution_count": 7,
   "id": "45b16e85",
   "metadata": {},
   "outputs": [
    {
     "data": {
      "image/png": "[encoded data removed]",
      "text/plain": [
       "<Figure size 576x576 with 2 Axes>"
      ]
     },
     "metadata": {
      "needs_background": "light"
     },
     "output_type": "display_data"
    }
   ],
   "source": [
    "#instantiate NN with best learning rate and layer 1 activation function\n",
    "#determined via grid search\n",
    "nn = NeuralNetwork(nn_arch=[{'input_dim': 68, 'output_dim': 16, 'activation': best_activation_layer1},\n",
    "                           {'input_dim': 16, 'output_dim': 1, 'activation': 'sigmoid'}],\n",
    "                           lr=best_lr, batch_size=10000, seed=42, epochs=20, loss_function=\n",
    "                           'cross_entropy') \n",
    "#X_train and y_train are the same observations that were used for cross validation grid search\n",
    "#X_test and y_test were completely held out of the grid search procedure\n",
    "per_epoch_train_loss, per_epoch_val_loss = nn.fit(X_train,y_train,\n",
    "                                               X_test,y_test)\n",
    "\n",
    "\n",
    "\n",
    "loss_hist = per_epoch_train_loss\n",
    "loss_hist_val = per_epoch_val_loss\n",
    "assert len(loss_hist) > 0, \"Need to run training before plotting loss history\"\n",
    "fig, axs = plt.subplots(2, figsize=(8,8))\n",
    "fig.suptitle('Loss History')\n",
    "axs[0].plot(np.arange(len(loss_hist)), loss_hist)\n",
    "axs[0].set_title('Training Loss')\n",
    "axs[1].plot(np.arange(len(loss_hist_val)), loss_hist_val)\n",
    "axs[1].set_title('Validation Loss')\n",
    "plt.xlabel('Epochs')\n",
    "axs[0].set_ylabel('Train Loss')\n",
    "axs[1].set_ylabel('Val Loss')\n",
    "fig.tight_layout()\n",
    "plt.show() "
   ]
  },
  {
   "cell_type": "markdown",
   "id": "5556ab48",
   "metadata": {},
   "source": [
    "### Performance of the Classifier on the test dataset\n",
    "* Take the trained model and quantify binary cross entropy error and accuracy on the held out test dataset\n",
    "* Also plot an ROC-AUC curve from the held out test data"
   ]
  },
  {
   "cell_type": "code",
   "execution_count": 8,
   "id": "c41cacde",
   "metadata": {},
   "outputs": [
    {
     "name": "stdout",
     "output_type": "stream",
     "text": [
      "Average binary cross entropy error across held out test data 5.771624477093937\n",
      "Test Accuracy: 0.9997272231314784\n"
     ]
    }
   ],
   "source": [
    "predictions = nn.predict(X_test)\n",
    "test_bce = nn._binary_cross_entropy(y_test,predictions)\n",
    "print(f\"Average binary cross entropy error across held out test data {test_bce}\")\n",
    "\n",
    "#ROC curve\n",
    "from sklearn.metrics import roc_curve\n",
    "fpr,tpr,_ = roc_curve(y_test.reshape(y_test.shape[0],1).astype(int),\n",
    "         predictions)\n",
    "\n",
    "#to get accuracy, I need to convert binarize predictions, which are given as probabilities\n",
    "# I will binarize by calling every probability >= 0.5 as 1, and everything <0.5 0\n",
    "predictions[predictions>=0.5] = 1\n",
    "predictions[predictions<0.5] = 0\n",
    "predictions = predictions.astype(int)\n",
    "\n",
    "y_test = y_test.reshape(y_test.shape[0],1) #reshape to have compatible as predictions\n",
    "y_test = y_test.astype(int)\n",
    "\n",
    "test_accuracy = np.sum(predictions==y_test)/len(y_test)\n",
    "print(f\"Test Accuracy: {test_accuracy}\")\n"
   ]
  },
  {
   "cell_type": "code",
   "execution_count": 9,
   "id": "9655a242",
   "metadata": {},
   "outputs": [
    {
     "data": {
      "image/png": "[encoded data removed]",
      "text/plain": [
       "<Figure size 432x288 with 1 Axes>"
      ]
     },
     "metadata": {
      "needs_background": "light"
     },
     "output_type": "display_data"
    }
   ],
   "source": [
    "plt.figure()\n",
    "lw = 2\n",
    "plt.plot(\n",
    "    fpr,\n",
    "    tpr,\n",
    "    color=\"darkorange\",\n",
    "    lw=lw\n",
    ")\n",
    "plt.plot([0, 1], [0, 1], color=\"navy\", lw=lw, linestyle=\"--\")\n",
    "plt.xlim([0.0, 1.0])\n",
    "plt.ylim([0.0, 1.05])\n",
    "plt.xlabel(\"False Positive Rate\")\n",
    "plt.ylabel(\"True Positive Rate\")\n",
    "plt.title(\"Receiver operating characteristic\")\n",
    "plt.show()"
   ]
  },
  {
   "cell_type": "markdown",
   "id": "1720600f",
   "metadata": {},
   "source": [
    "# Conclusions\n",
    "* Classifier had excellent performance, as seen through a nearly perfect ROC curve  and high accuracy on the held-out test set with balanced classes."
   ]
  }
 ],
 "metadata": {
  "kernelspec": {
   "display_name": "Python 3 (ipykernel)",
   "language": "python",
   "name": "python3"
  },
  "language_info": {
   "codemirror_mode": {
    "name": "ipython",
    "version": 3
   },
   "file_extension": ".py",
   "mimetype": "text/x-python",
   "name": "python",
   "nbconvert_exporter": "python",
   "pygments_lexer": "ipython3",
   "version": "3.9.7"
  }
 },
 "nbformat": 4,
 "nbformat_minor": 5
}
